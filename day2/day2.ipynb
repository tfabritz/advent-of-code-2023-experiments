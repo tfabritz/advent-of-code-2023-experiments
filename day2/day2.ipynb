{
 "cells": [
  {
   "cell_type": "code",
   "execution_count": null,
   "metadata": {},
   "outputs": [],
   "source": [
    "import re"
   ]
  },
  {
   "cell_type": "markdown",
   "metadata": {},
   "source": [
    "Part 1"
   ]
  },
  {
   "cell_type": "code",
   "execution_count": null,
   "metadata": {},
   "outputs": [],
   "source": [
    "with open(\"input.txt\") as f:\n",
    "    lines = f.readlines()\n",
    "lines = [l.strip() for l in lines]\n",
    "lines[:3]"
   ]
  },
  {
   "cell_type": "code",
   "execution_count": null,
   "metadata": {},
   "outputs": [],
   "source": [
    "def parse_game(line: str):\n",
    "    red_max = max([int(n) for n in re.findall(r\"(\\d+) red\", line)])\n",
    "    green_max = max([int(n) for n in re.findall(r\"(\\d+) green\", line)])\n",
    "    blue_max = max([int(n) for n in re.findall(r\"(\\d+) blue\", line)])\n",
    "\n",
    "    if red_max <= 12 and green_max <= 13 and blue_max <= 14:\n",
    "        return int(re.findall(r\"Game (\\d+)\", line)[0])\n",
    "    else:\n",
    "        return 0"
   ]
  },
  {
   "cell_type": "code",
   "execution_count": null,
   "metadata": {},
   "outputs": [],
   "source": [
    "sum([parse_game(l) for l in lines])"
   ]
  },
  {
   "cell_type": "markdown",
   "metadata": {},
   "source": [
    "Part 2"
   ]
  },
  {
   "cell_type": "code",
   "execution_count": null,
   "metadata": {},
   "outputs": [],
   "source": [
    "def parse_game_2(line: str):\n",
    "    red_max = max([int(n) for n in re.findall(r\"(\\d+) red\", line)])\n",
    "    green_max = max([int(n) for n in re.findall(r\"(\\d+) green\", line)])\n",
    "    blue_max = max([int(n) for n in re.findall(r\"(\\d+) blue\", line)])\n",
    "\n",
    "    return red_max * green_max * blue_max"
   ]
  },
  {
   "cell_type": "code",
   "execution_count": null,
   "metadata": {},
   "outputs": [],
   "source": [
    "sum([parse_game_2(l) for l in lines])"
   ]
  }
 ],
 "metadata": {
  "kernelspec": {
   "display_name": "aoc",
   "language": "python",
   "name": "python3"
  },
  "language_info": {
   "codemirror_mode": {
    "name": "ipython",
    "version": 3
   },
   "file_extension": ".py",
   "mimetype": "text/x-python",
   "name": "python",
   "nbconvert_exporter": "python",
   "pygments_lexer": "ipython3",
   "version": "3.11.5"
  }
 },
 "nbformat": 4,
 "nbformat_minor": 2
}
