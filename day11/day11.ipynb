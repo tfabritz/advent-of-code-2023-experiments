{
 "cells": [
  {
   "cell_type": "code",
   "execution_count": null,
   "metadata": {},
   "outputs": [],
   "source": [
    "import itertools"
   ]
  },
  {
   "cell_type": "code",
   "execution_count": null,
   "metadata": {},
   "outputs": [],
   "source": [
    "with open(\"input.txt\") as f:\n",
    "    lines = f.readlines()\n",
    "lines = [l.strip() for l in lines]\n",
    "lines[:5]"
   ]
  },
  {
   "cell_type": "code",
   "execution_count": null,
   "metadata": {},
   "outputs": [],
   "source": [
    "galaxy = lines.copy()"
   ]
  },
  {
   "cell_type": "markdown",
   "metadata": {},
   "source": [
    "part 1"
   ]
  },
  {
   "cell_type": "code",
   "execution_count": null,
   "metadata": {},
   "outputs": [],
   "source": [
    "def string_insert(string, index, symbol):\n",
    "    return string[:index] + symbol + string[index:]\n",
    "\n",
    "\n",
    "def expand_cols(galaxy):\n",
    "    cols_to_add = []\n",
    "    for i in range(0, len(galaxy[0])):\n",
    "        col_fields = []\n",
    "        for j in range(0, len(galaxy)):\n",
    "            # this is very uneconomic, but still fast enough\n",
    "            col_fields.append(galaxy[j][i])\n",
    "        if all([p == \".\" for p in col_fields]):\n",
    "            cols_to_add.append(i)\n",
    "\n",
    "    new_galaxy = []\n",
    "    for r in galaxy:\n",
    "        expanded_row = r\n",
    "        # shift indexes by 1 for each added col\n",
    "        for i in range(0, len(cols_to_add)):\n",
    "            expanded_row = string_insert(expanded_row, cols_to_add[i] + i, \".\")\n",
    "        new_galaxy.append(expanded_row)\n",
    "    return new_galaxy\n",
    "\n",
    "\n",
    "# expand_cols(galaxy)"
   ]
  },
  {
   "cell_type": "code",
   "execution_count": null,
   "metadata": {},
   "outputs": [],
   "source": [
    "def expand_rows(galaxy):\n",
    "    galaxy = galaxy.copy()\n",
    "    empty_row = \".\" * len(galaxy[0])\n",
    "    i = 0\n",
    "    while i < len(galaxy):\n",
    "        if all([p == \".\" for p in galaxy[i]]):\n",
    "            galaxy.insert(i, empty_row)\n",
    "            # skip newly inserted row\n",
    "            i += 1\n",
    "        i += 1\n",
    "    return galaxy\n",
    "\n",
    "\n",
    "# expand_rows(galaxy)"
   ]
  },
  {
   "cell_type": "code",
   "execution_count": null,
   "metadata": {},
   "outputs": [],
   "source": [
    "def expand_galaxy(galaxy):\n",
    "    expanded_galaxy = expand_cols(galaxy)\n",
    "    expanded_galaxy = expand_rows(expanded_galaxy)\n",
    "    return expanded_galaxy\n",
    "\n",
    "\n",
    "# expand_galaxy(galaxy)"
   ]
  },
  {
   "cell_type": "code",
   "execution_count": null,
   "metadata": {},
   "outputs": [],
   "source": [
    "galaxy_e = expand_galaxy(galaxy)"
   ]
  },
  {
   "cell_type": "code",
   "execution_count": null,
   "metadata": {},
   "outputs": [],
   "source": [
    "galaxies = []\n",
    "for i in range(0, len(galaxy_e)):\n",
    "    for j in range(0, len(galaxy_e[0])):\n",
    "        if galaxy_e[i][j] == \"#\":\n",
    "            galaxies.append((i, j))\n",
    "# galaxies"
   ]
  },
  {
   "cell_type": "code",
   "execution_count": null,
   "metadata": {},
   "outputs": [],
   "source": [
    "galaxy_combinations = list(itertools.combinations(galaxies, 2))\n",
    "galaxy_dists = []\n",
    "for gc in galaxy_combinations:\n",
    "    dist = abs(gc[0][0] - gc[1][0]) + abs(gc[0][1] - gc[1][1])\n",
    "    galaxy_dists.append(dist)\n",
    "sum(galaxy_dists)"
   ]
  },
  {
   "cell_type": "markdown",
   "metadata": {},
   "source": [
    "part 2"
   ]
  },
  {
   "cell_type": "code",
   "execution_count": null,
   "metadata": {},
   "outputs": [],
   "source": [
    "# first naive brute force increasing of universe"
   ]
  },
  {
   "cell_type": "code",
   "execution_count": null,
   "metadata": {},
   "outputs": [],
   "source": [
    "def expand_cols_m(galaxy, m):\n",
    "    cols_to_add = []\n",
    "    for i in range(0, len(galaxy[0])):\n",
    "        col_fields = []\n",
    "        for j in range(0, len(galaxy)):\n",
    "            # this is very uneconomic, but still fast enough\n",
    "            col_fields.append(galaxy[j][i])\n",
    "        if all([p == \".\" for p in col_fields]):\n",
    "            cols_to_add.append(i)\n",
    "\n",
    "    new_galaxy = []\n",
    "    # print(cols_to_add)\n",
    "    for r in galaxy:\n",
    "        expanded_row = r\n",
    "        # print(r)\n",
    "        # shift indexes by 1 for each added col\n",
    "        for i in range(0, len(cols_to_add)):\n",
    "            for t in range(0, m - 1):\n",
    "                k = i * (m - 1)\n",
    "                # print(f\"Added at index {cols_to_add[i]+k}\")\n",
    "                expanded_row = string_insert(expanded_row, cols_to_add[i] + k, \".\")\n",
    "\n",
    "        new_galaxy.append(expanded_row)\n",
    "\n",
    "    return new_galaxy\n",
    "\n",
    "\n",
    "def expand_rows_m(galaxy, m):\n",
    "    galaxy = galaxy.copy()\n",
    "    empty_row = \".\" * len(galaxy[0])\n",
    "    i = 0\n",
    "    while i < len(galaxy):\n",
    "        if all([p == \".\" for p in galaxy[i]]):\n",
    "            for t in range(0, m - 1):\n",
    "                galaxy.insert(i, empty_row)\n",
    "                # skip newly inserted row\n",
    "                i += 1\n",
    "        i += 1\n",
    "    return galaxy\n",
    "\n",
    "\n",
    "def expand_galaxy_m(galaxy, m):\n",
    "    expanded_galaxy = expand_cols_m(galaxy, m)\n",
    "    expanded_galaxy = expand_rows_m(expanded_galaxy, m)\n",
    "    return expanded_galaxy\n",
    "\n",
    "\n",
    "galaxy_e = expand_galaxy_m(galaxy, 5)"
   ]
  },
  {
   "cell_type": "code",
   "execution_count": null,
   "metadata": {},
   "outputs": [],
   "source": [
    "# Brute force was once again not working out\n",
    "# new idea, see what distances change, when galaxy expands by 1\n",
    "# Compute the increase of distance for each galaxy combination in that 1 step expansion\n",
    "# and then scale that by the number of increases for all galaxy distances"
   ]
  },
  {
   "cell_type": "code",
   "execution_count": null,
   "metadata": {},
   "outputs": [],
   "source": [
    "def get_distances(galaxies, m):\n",
    "    galaxy_e = expand_galaxy_m(galaxy, m)\n",
    "    galaxies = []\n",
    "    # give id to galaxy, they are stable because traversal is stable\n",
    "    # this will be used to re-identify them because coordinates change after expansion\n",
    "    galaxy_id = 0\n",
    "    for i in range(0, len(galaxy_e)):\n",
    "        for j in range(0, len(galaxy_e[0])):\n",
    "            if galaxy_e[i][j] == \"#\":\n",
    "                galaxies.append((galaxy_id, (i, j)))\n",
    "                galaxy_id += 1\n",
    "\n",
    "    galaxy_combinations = list(itertools.combinations(galaxies, 2))\n",
    "    galaxy_dists = {}\n",
    "    for gc in galaxy_combinations:\n",
    "        dist = abs(gc[0][1][0] - gc[1][1][0]) + abs(gc[0][1][1] - gc[1][1][1])\n",
    "        galaxy_dists[(gc[0][0], gc[1][0])] = dist\n",
    "    return galaxy_dists"
   ]
  },
  {
   "cell_type": "code",
   "execution_count": null,
   "metadata": {},
   "outputs": [],
   "source": [
    "# 1 means not increased at all\n",
    "d1 = get_distances(galaxies, 1)\n",
    "# 2 means doubled, so a single increase per empty row or col\n",
    "d2 = get_distances(galaxies, 2)"
   ]
  },
  {
   "cell_type": "code",
   "execution_count": null,
   "metadata": {},
   "outputs": [],
   "source": [
    "increase_counts = {}\n",
    "for galaxy_comb in d1.keys():\n",
    "    # maximum increase would be if everything in between to galaxies was empty, so bound by size of galaxy board\n",
    "    for i in range(0, max(len(galaxy), len(galaxy[0]))):\n",
    "        if d1[galaxy_comb] + i == d2[galaxy_comb]:\n",
    "            if i not in increase_counts:\n",
    "                increase_counts[i] = 1\n",
    "            else:\n",
    "                increase_counts[i] += 1\n",
    "\n",
    "\n",
    "print(increase_counts)"
   ]
  },
  {
   "cell_type": "code",
   "execution_count": null,
   "metadata": {},
   "outputs": [],
   "source": [
    "# base is distances without any increase\n",
    "# scale them with their respective increase values\n",
    "\n",
    "# if there are 500 galaxies where the distance increased by 5 for expanding once,\n",
    "# then that distance per galaxy will increase by 10 if expanding twice etc\n",
    "# so multiply all of that and add to base distances\n",
    "# quick sanity check: scale 2 should match part a\n",
    "base = sum(d1.values())\n",
    "scale_number = 1000000\n",
    "for k, v in increase_counts.items():\n",
    "    base += k * v * (scale_number - 1)\n",
    "base"
   ]
  }
 ],
 "metadata": {
  "kernelspec": {
   "display_name": "aoc",
   "language": "python",
   "name": "python3"
  },
  "language_info": {
   "codemirror_mode": {
    "name": "ipython",
    "version": 3
   },
   "file_extension": ".py",
   "mimetype": "text/x-python",
   "name": "python",
   "nbconvert_exporter": "python",
   "pygments_lexer": "ipython3",
   "version": "3.11.5"
  }
 },
 "nbformat": 4,
 "nbformat_minor": 2
}
