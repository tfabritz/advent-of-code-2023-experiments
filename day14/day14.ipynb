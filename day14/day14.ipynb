{
 "cells": [
  {
   "cell_type": "code",
   "execution_count": null,
   "metadata": {},
   "outputs": [],
   "source": [
    "from typing import Tuple, List\n",
    "from functools import cache"
   ]
  },
  {
   "cell_type": "code",
   "execution_count": null,
   "metadata": {},
   "outputs": [],
   "source": [
    "with open(\"input.txt\") as f:\n",
    "    lines = f.readlines()\n",
    "lines = [l.strip() for l in lines]\n",
    "lines[:5]"
   ]
  },
  {
   "cell_type": "code",
   "execution_count": null,
   "metadata": {},
   "outputs": [],
   "source": [
    "board = lines.copy()"
   ]
  },
  {
   "cell_type": "code",
   "execution_count": null,
   "metadata": {},
   "outputs": [],
   "source": [
    "def print_board(board):\n",
    "    for l in board:\n",
    "        print(l)"
   ]
  },
  {
   "cell_type": "code",
   "execution_count": null,
   "metadata": {},
   "outputs": [],
   "source": [
    "def change_rock_row(i, row):\n",
    "    if row[i] == \"O\":\n",
    "        return row[:i] + \".\" + row[i + 1 :]\n",
    "    else:\n",
    "        return row[:i] + \"O\" + row[i + 1 :]\n",
    "\n",
    "\n",
    "def move_rock_board(source: Tuple[int, int], target: Tuple[int, int], board: List[str]):\n",
    "    board = board.copy()\n",
    "    # assert board[source[0]][source[1]] == \"O\"\n",
    "    # assert board[target[0]][target[1]] == \".\"\n",
    "    board[source[0]] = change_rock_row(source[1], board[source[0]])\n",
    "    board[target[0]] = change_rock_row(target[1], board[target[0]])\n",
    "    return board\n",
    "\n",
    "\n",
    "def mv_pos(pos, delta):\n",
    "    return (pos[0] + delta[0], pos[1] + delta[1])\n",
    "\n",
    "\n",
    "def in_bounds(pos, board):\n",
    "    return (\n",
    "        pos[0] >= 0 and pos[0] < len(board) and pos[1] >= 0 and pos[1] < len(board[0])\n",
    "    )"
   ]
  },
  {
   "cell_type": "code",
   "execution_count": null,
   "metadata": {},
   "outputs": [],
   "source": [
    "# print_board(board)\n",
    "# print()\n",
    "# print_board(move_rock_board((1,2), (0,2), board))"
   ]
  },
  {
   "cell_type": "code",
   "execution_count": null,
   "metadata": {},
   "outputs": [],
   "source": [
    "# 0 north\n",
    "# 1 east\n",
    "# 2 south\n",
    "# 3 west\n",
    "mv_dict = {0: (-1, 0), 1: (0, 1), 2: (1, 0), 3: (0, -1)}\n",
    "\n",
    "\n",
    "# moves rock as far as possible\n",
    "def move_rock_to_dir(rock_pos, dir, board):\n",
    "    board = board.copy()\n",
    "\n",
    "    mv = mv_dict[dir]\n",
    "    new_rock_pos = rock_pos\n",
    "    # assert board[rock_pos[0]][rock_pos[1]] == \"O\"\n",
    "    while in_bounds(mv_pos(new_rock_pos, mv), board) and (\n",
    "        board[new_rock_pos[0] + mv[0]][new_rock_pos[1] + mv[1]] == \".\"\n",
    "    ):\n",
    "        new_rock_pos = mv_pos(new_rock_pos, mv)\n",
    "\n",
    "    board = move_rock_board(rock_pos, new_rock_pos, board)\n",
    "    return board"
   ]
  },
  {
   "cell_type": "code",
   "execution_count": null,
   "metadata": {},
   "outputs": [],
   "source": [
    "# print_board(board)\n",
    "# print()\n",
    "# print_board(move_rock_to_dir((3,1), 0, board))"
   ]
  },
  {
   "cell_type": "code",
   "execution_count": null,
   "metadata": {},
   "outputs": [],
   "source": [
    "# 0 north\n",
    "# 1 east\n",
    "# 2 south\n",
    "# 3 west\n",
    "\n",
    "\n",
    "def tilt_board(dir, board):\n",
    "    board = board.copy()\n",
    "    if dir == 0:\n",
    "        for i in range(0, len(board)):\n",
    "            for j in range(0, len(board[0])):\n",
    "                if board[i][j] == \"O\":\n",
    "                    board = move_rock_to_dir((i, j), dir, board)\n",
    "    if dir == 1:\n",
    "        for j in range(0, len(board[0])):\n",
    "            j = len(board[0]) - 1 - j\n",
    "            for i in range(0, len(board)):\n",
    "                if board[i][j] == \"O\":\n",
    "                    board = move_rock_to_dir((i, j), dir, board)\n",
    "    if dir == 2:\n",
    "        for i in range(0, len(board)):\n",
    "            i = len(board) - 1 - i\n",
    "            for j in range(0, len(board[0])):\n",
    "                if board[i][j] == \"O\":\n",
    "                    board = move_rock_to_dir((i, j), dir, board)\n",
    "    if dir == 3:\n",
    "        for j in range(0, len(board[0])):\n",
    "            for i in range(0, len(board)):\n",
    "                if board[i][j] == \"O\":\n",
    "                    board = move_rock_to_dir((i, j), dir, board)\n",
    "\n",
    "    return board"
   ]
  },
  {
   "cell_type": "code",
   "execution_count": null,
   "metadata": {},
   "outputs": [],
   "source": [
    "# print_board(board)\n",
    "# print()\n",
    "# print_board(tilt_board(0, board))"
   ]
  },
  {
   "cell_type": "code",
   "execution_count": null,
   "metadata": {},
   "outputs": [],
   "source": []
  },
  {
   "cell_type": "code",
   "execution_count": null,
   "metadata": {},
   "outputs": [],
   "source": [
    "def get_weight(dir, board):\n",
    "    weight = 0\n",
    "    if dir == 0:\n",
    "        lb = len(board)\n",
    "        for i in range(0, len(board)):\n",
    "            for j in range(0, len(board[0])):\n",
    "                if board[i][j] == \"O\":\n",
    "                    weight += lb - i\n",
    "    return weight"
   ]
  },
  {
   "cell_type": "code",
   "execution_count": null,
   "metadata": {},
   "outputs": [],
   "source": [
    "get_weight(0, tilt_board(0, board))"
   ]
  },
  {
   "cell_type": "markdown",
   "metadata": {},
   "source": [
    "part 2"
   ]
  },
  {
   "cell_type": "code",
   "execution_count": null,
   "metadata": {},
   "outputs": [],
   "source": [
    "@cache\n",
    "def cycle_tilts(board):\n",
    "    board = list(board)\n",
    "    tilt_cycle = [0, 3, 2, 1]\n",
    "    for d in tilt_cycle:\n",
    "        board = tilt_board(d, board)\n",
    "    return board"
   ]
  },
  {
   "cell_type": "code",
   "execution_count": null,
   "metadata": {},
   "outputs": [],
   "source": [
    "def multiple_cycle_tilts(cnt, board):\n",
    "    board = board.copy()\n",
    "    for _ in range(0, cnt):\n",
    "        board = cycle_tilts(tuple(board))\n",
    "\n",
    "    return board"
   ]
  },
  {
   "cell_type": "code",
   "execution_count": null,
   "metadata": {},
   "outputs": [],
   "source": [
    "# As usual this was the point where my implementation was too slow and optimizations where needed\n",
    "\n",
    "# The fast solution would be to have some cycle detection and compute from there\n",
    "# But with cache on full cycles this runs in about 10 minutes\n",
    "# There are only 165 full cycle board states according to cache info on cycle_tilts"
   ]
  },
  {
   "cell_type": "code",
   "execution_count": null,
   "metadata": {},
   "outputs": [],
   "source": [
    "b_r = multiple_cycle_tilts(1000000000, board)\n",
    "get_weight(0, b_r)"
   ]
  },
  {
   "cell_type": "code",
   "execution_count": null,
   "metadata": {},
   "outputs": [],
   "source": [
    "# For profiling something like this can be used\n",
    "# import cProfile\n",
    "# cProfile.run('all_cycle_tilts(50000, board)', sort=\"tottime\")"
   ]
  }
 ],
 "metadata": {
  "kernelspec": {
   "display_name": "aoc",
   "language": "python",
   "name": "python3"
  },
  "language_info": {
   "codemirror_mode": {
    "name": "ipython",
    "version": 3
   },
   "file_extension": ".py",
   "mimetype": "text/x-python",
   "name": "python",
   "nbconvert_exporter": "python",
   "pygments_lexer": "ipython3",
   "version": "3.11.5"
  }
 },
 "nbformat": 4,
 "nbformat_minor": 2
}
