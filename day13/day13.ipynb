{
 "cells": [
  {
   "cell_type": "code",
   "execution_count": null,
   "metadata": {},
   "outputs": [],
   "source": []
  },
  {
   "cell_type": "code",
   "execution_count": null,
   "metadata": {},
   "outputs": [],
   "source": [
    "with open(\"input.txt\") as f:\n",
    "    lines = f.readlines()\n",
    "lines = [l.strip() for l in lines]\n",
    "lines[:5]"
   ]
  },
  {
   "cell_type": "code",
   "execution_count": null,
   "metadata": {},
   "outputs": [],
   "source": [
    "# split into input patterns\n",
    "patterns = []\n",
    "pattern = []\n",
    "for line in lines:\n",
    "    if line:\n",
    "        pattern.append(line)\n",
    "    else:\n",
    "        patterns.append(pattern)\n",
    "        pattern = []\n",
    "if pattern:\n",
    "    patterns.append(pattern)\n",
    "patterns"
   ]
  },
  {
   "cell_type": "code",
   "execution_count": null,
   "metadata": {},
   "outputs": [],
   "source": [
    "def get_col_tuples(pattern):\n",
    "    tuple_list = []\n",
    "    for i in range(0, len(pattern[0])):\n",
    "        col_list = []\n",
    "        for j in range(0, len(pattern)):\n",
    "            col_list.append(pattern[j][i])\n",
    "        tuple_list.append(tuple(col_list))\n",
    "    return tuple_list"
   ]
  },
  {
   "cell_type": "code",
   "execution_count": null,
   "metadata": {},
   "outputs": [],
   "source": [
    "pattern = patterns[1]\n",
    "row_tuples = [tuple(r) for r in pattern]\n",
    "col_tuples = get_col_tuples(pattern)\n",
    "# col_tuples"
   ]
  },
  {
   "cell_type": "code",
   "execution_count": null,
   "metadata": {},
   "outputs": [],
   "source": [
    "# I misunderstood the problem first and didn't realize, reflections need to go to the boundary and was looking for the longest reflection\n",
    "# Instead of rewriting, the code was adapted until it fit, so it may be a bit weird"
   ]
  },
  {
   "cell_type": "code",
   "execution_count": null,
   "metadata": {},
   "outputs": [],
   "source": [
    "def find_refl_length(i, tuple_list):\n",
    "    refl_len = 0\n",
    "    while True:\n",
    "        if (i - (refl_len) < 0) or (i + refl_len + 1 >= len(tuple_list)):\n",
    "            break\n",
    "        # print(f\"{i-(refl_len)},{i+refl_len+1}\")\n",
    "        if tuple_list[i - (refl_len)] == tuple_list[i + refl_len + 1]:\n",
    "            refl_len += 1\n",
    "        else:\n",
    "            break\n",
    "    return refl_len"
   ]
  },
  {
   "cell_type": "code",
   "execution_count": null,
   "metadata": {},
   "outputs": [],
   "source": [
    "# Return a 4-tuple with following values\n",
    "# - 0 horizontal 1 vertical reflection line\n",
    "# - length of reflection\n",
    "# - start index of reflection\n",
    "# - length of field in perpendicular direction of reflection line (thought I need this, turns out I don't but I kept it in)\n",
    "def find_refl(pattern):\n",
    "    row_tuples = [tuple(r) for r in pattern]\n",
    "    col_tuples = get_col_tuples(pattern)\n",
    "\n",
    "    hor_refl = (0, 0, 0, 0)\n",
    "    for i in range(0, len(row_tuples) - 1):\n",
    "        if row_tuples[i] == row_tuples[i + 1]:\n",
    "            refl_len = find_refl_length(i, row_tuples)\n",
    "            # New reflection is longer (in case there might be 2, I don't think there ever are)\n",
    "            # And it ends at either lower or upper end of the field \n",
    "            if refl_len > hor_refl[1] and (\n",
    "                (i - (refl_len - 1) == 0) or (i + refl_len == len(row_tuples) - 1)\n",
    "            ):\n",
    "                hor_refl = (0, refl_len, i, len(row_tuples))\n",
    "\n",
    "    vert_refl = (1, 0, 0, 0)\n",
    "    for i in range(0, len(col_tuples) - 1):\n",
    "        if col_tuples[i] == col_tuples[i + 1]:\n",
    "            refl_len = find_refl_length(i, col_tuples)\n",
    "            if refl_len > vert_refl[1] and (\n",
    "                (i - (refl_len - 1) == 0) or (i + refl_len == len(col_tuples) - 1)\n",
    "            ):\n",
    "                vert_refl = (1, refl_len, i, len(col_tuples))\n",
    "\n",
    "    if vert_refl[1] > hor_refl[1]:\n",
    "        return vert_refl\n",
    "    else:\n",
    "        return hor_refl\n",
    "\n",
    "\n",
    "# With index of reflection start, lines above or left to it are always 0->index\n",
    "def get_refl_value(refl):\n",
    "    if refl[0] == 1:\n",
    "        return refl[2] + 1\n",
    "    else:\n",
    "        return 100 * (refl[2] + 1)"
   ]
  },
  {
   "cell_type": "code",
   "execution_count": null,
   "metadata": {},
   "outputs": [],
   "source": [
    "sum([get_refl_value(find_refl(p)) for p in patterns])"
   ]
  },
  {
   "cell_type": "markdown",
   "metadata": {},
   "source": [
    "part 2"
   ]
  },
  {
   "cell_type": "code",
   "execution_count": null,
   "metadata": {},
   "outputs": [],
   "source": [
    "# Lets try brute forcing this by just smudging every single possible field"
   ]
  },
  {
   "cell_type": "code",
   "execution_count": null,
   "metadata": {},
   "outputs": [],
   "source": [
    "def apply_smudge_row(i, row):\n",
    "    if row[i] == \"#\":\n",
    "        return row[:i] + \".\" + row[i + 1 :]\n",
    "    else:\n",
    "        return row[:i] + \"#\" + row[i + 1 :]\n",
    "\n",
    "\n",
    "def apply_smudge(i, j, pattern: list[str]):\n",
    "    pattern = pattern.copy()\n",
    "    pattern[i] = apply_smudge_row(j, pattern[i])\n",
    "    return pattern"
   ]
  },
  {
   "cell_type": "code",
   "execution_count": null,
   "metadata": {},
   "outputs": [],
   "source": [
    "# Add filter for old reflection\n",
    "def find_refl_smudge(pattern, old_refl):\n",
    "    row_tuples = [tuple(r) for r in pattern]\n",
    "    col_tuples = get_col_tuples(pattern)\n",
    "\n",
    "    hor_refl = (0, 0, 0, 0)\n",
    "    for i in range(0, len(row_tuples) - 1):\n",
    "        if row_tuples[i] == row_tuples[i + 1]:\n",
    "            refl_len = find_refl_length(i, row_tuples)\n",
    "            if refl_len > hor_refl[1] and (\n",
    "                (i - (refl_len - 1) == 0) or (i + refl_len == len(row_tuples) - 1)\n",
    "            ):\n",
    "                if (0, refl_len, i, len(row_tuples)) != old_refl:\n",
    "                    hor_refl = (0, refl_len, i, len(row_tuples))\n",
    "\n",
    "    vert_refl = (1, 0, 0, 0)\n",
    "    for i in range(0, len(col_tuples) - 1):\n",
    "        if col_tuples[i] == col_tuples[i + 1]:\n",
    "            refl_len = find_refl_length(i, col_tuples)\n",
    "            if refl_len > vert_refl[1] and (\n",
    "                (i - (refl_len - 1) == 0) or (i + refl_len == len(col_tuples) - 1)\n",
    "            ):\n",
    "                if (1, refl_len, i, len(col_tuples)) != old_refl:\n",
    "                    vert_refl = (1, refl_len, i, len(col_tuples))\n",
    "\n",
    "    if vert_refl[1] > hor_refl[1]:\n",
    "        return vert_refl\n",
    "    else:\n",
    "        return hor_refl"
   ]
  },
  {
   "cell_type": "code",
   "execution_count": null,
   "metadata": {},
   "outputs": [],
   "source": [
    "find_refl(apply_smudge(0, 0, patterns[0]))"
   ]
  },
  {
   "cell_type": "code",
   "execution_count": null,
   "metadata": {},
   "outputs": [],
   "source": [
    "def smudge_search(pattern):\n",
    "    old_refl = find_refl(pattern)\n",
    "    # print(pattern)\n",
    "    for i in range(0, len(pattern)):\n",
    "        for j in range(0, len(pattern[0])):\n",
    "            p = apply_smudge(i, j, pattern)\n",
    "            refl = find_refl_smudge(p, old_refl)\n",
    "            if refl != (0, 0, 0, 0):\n",
    "                # print((i,j))\n",
    "                # print(refl)\n",
    "                # print(p)\n",
    "                return refl\n",
    "\n",
    "\n",
    "smudge_search(patterns[0])"
   ]
  },
  {
   "cell_type": "code",
   "execution_count": null,
   "metadata": {},
   "outputs": [],
   "source": [
    "sum([get_refl_value(smudge_search(p)) for p in patterns])"
   ]
  }
 ],
 "metadata": {
  "kernelspec": {
   "display_name": "aoc",
   "language": "python",
   "name": "python3"
  },
  "language_info": {
   "codemirror_mode": {
    "name": "ipython",
    "version": 3
   },
   "file_extension": ".py",
   "mimetype": "text/x-python",
   "name": "python",
   "nbconvert_exporter": "python",
   "pygments_lexer": "ipython3",
   "version": "3.11.5"
  }
 },
 "nbformat": 4,
 "nbformat_minor": 2
}
