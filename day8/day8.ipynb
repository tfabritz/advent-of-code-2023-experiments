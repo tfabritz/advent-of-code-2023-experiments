{
 "cells": [
  {
   "cell_type": "code",
   "execution_count": null,
   "metadata": {},
   "outputs": [],
   "source": [
    "import re\n",
    "import itertools"
   ]
  },
  {
   "cell_type": "code",
   "execution_count": null,
   "metadata": {},
   "outputs": [],
   "source": [
    "with open(\"input.txt\") as f:\n",
    "    lines = f.readlines()\n",
    "lines = [l.strip() for l in lines]\n",
    "lines[:5]"
   ]
  },
  {
   "cell_type": "code",
   "execution_count": null,
   "metadata": {},
   "outputs": [],
   "source": [
    "lr_instructions = lines[0]"
   ]
  },
  {
   "cell_type": "code",
   "execution_count": null,
   "metadata": {},
   "outputs": [],
   "source": [
    "graph_dict = {}\n",
    "for l in lines[2:]:\n",
    "    nodes = re.search(r\"([A-Z]+) = \\(([A-Z]+), ([A-Z]+)\\)\", l).groups()\n",
    "    graph_dict[nodes[0]] = (nodes[1], nodes[2])\n",
    "\n",
    "# graph_dict"
   ]
  },
  {
   "cell_type": "code",
   "execution_count": null,
   "metadata": {},
   "outputs": [],
   "source": [
    "start = \"AAA\"\n",
    "target = \"ZZZ\"\n",
    "\n",
    "steps = 0\n",
    "lr_cycle = itertools.cycle(lr_instructions)\n",
    "for i in lr_cycle:\n",
    "    if start == target:\n",
    "        break\n",
    "    elif i == \"L\":\n",
    "        start = graph_dict[start][0]\n",
    "    else:\n",
    "        start = graph_dict[start][1]\n",
    "    steps += 1\n",
    "\n",
    "steps"
   ]
  },
  {
   "cell_type": "markdown",
   "metadata": {},
   "source": [
    "part 2"
   ]
  },
  {
   "cell_type": "code",
   "execution_count": null,
   "metadata": {},
   "outputs": [],
   "source": [
    "# reread here because there is a second example\n",
    "with open(\"input.txt\") as f:\n",
    "    lines = f.readlines()\n",
    "lines = [l.strip() for l in lines]\n",
    "lines[:5]"
   ]
  },
  {
   "cell_type": "code",
   "execution_count": null,
   "metadata": {},
   "outputs": [],
   "source": [
    "lr_instructions = lines[0]\n",
    "graph_dict = {}\n",
    "for l in lines[2:]:\n",
    "    nodes = re.search(r\"([0-9A-Z]+) = \\(([0-9A-Z]+), ([0-9A-Z]+)\\)\", l).groups()\n",
    "    graph_dict[nodes[0]] = (nodes[1], nodes[2])\n",
    "\n",
    "# graph_dict"
   ]
  },
  {
   "cell_type": "code",
   "execution_count": null,
   "metadata": {},
   "outputs": [],
   "source": [
    "start_nodes = [n for n in graph_dict.keys() if n.endswith(\"A\")]\n",
    "# First try, brute force\n",
    "# This won't work, it is way too slow, but it does work for subsets until around 3\n",
    "start_nodes = start_nodes[:1]\n",
    "start_nodes_len = len(start_nodes)\n",
    "steps = 0\n",
    "lr_cycle = itertools.cycle(lr_instructions)\n",
    "for i in lr_cycle:\n",
    "    if all([n.endswith(\"Z\") for n in start_nodes]):\n",
    "        break\n",
    "    for j in range(0, start_nodes_len):\n",
    "        if i == \"L\":\n",
    "            start_nodes[j] = graph_dict[start_nodes[j]][0]\n",
    "        else:\n",
    "            start_nodes[j] = graph_dict[start_nodes[j]][1]\n",
    "    steps += 1\n",
    "    # print(start_nodes)\n",
    "    if steps == 10:\n",
    "        pass  # break\n",
    "\n",
    "steps"
   ]
  },
  {
   "cell_type": "code",
   "execution_count": null,
   "metadata": {},
   "outputs": [],
   "source": [
    "# I assumed there might be cycles in the graph, and to avoid detecting them computationally, I tried naive printing\n",
    "start = \"HVA\"\n",
    "\n",
    "\n",
    "def print_cycle_length(start):\n",
    "    print(start)\n",
    "    steps = 0\n",
    "    cycles = 0\n",
    "    cycle_list = []\n",
    "    lr_cycle = itertools.cycle(lr_instructions)\n",
    "    for i in lr_cycle:\n",
    "        if start.endswith(\"Z\"):\n",
    "            cycle_list.append(steps)\n",
    "            cycles += 1\n",
    "            if cycles == 10:\n",
    "                break\n",
    "        if i == \"L\":\n",
    "            start = graph_dict[start][0]\n",
    "        else:\n",
    "            start = graph_dict[start][1]\n",
    "        steps += 1\n",
    "\n",
    "    print(str([j - i for i, j in zip(cycle_list[:-1], cycle_list[1:])]))\n",
    "\n",
    "\n",
    "start_nodes = [n for n in graph_dict.keys() if n.endswith(\"A\")]\n",
    "for n in start_nodes:\n",
    "    print_cycle_length(n)"
   ]
  },
  {
   "cell_type": "code",
   "execution_count": null,
   "metadata": {},
   "outputs": [],
   "source": [
    "# And indeed, there are cycles and they are all the same length all the time apparently\n",
    "\n",
    "# So we are looking for the lowest common multiple of them\n",
    "# Code for computing that taken from https://stackoverflow.com/questions/37237954/calculate-the-lcm-of-a-list-of-given-numbers-in-python"
   ]
  },
  {
   "cell_type": "code",
   "execution_count": null,
   "metadata": {},
   "outputs": [],
   "source": [
    "from math import gcd\n",
    "\n",
    "cycle_lengths = [15871, 16409, 21251, 18023, 12643, 19099]\n",
    "lcm = 1\n",
    "for i in cycle_lengths:\n",
    "    lcm = lcm * i // gcd(lcm, i)\n",
    "print(lcm)"
   ]
  }
 ],
 "metadata": {
  "kernelspec": {
   "display_name": "aoc",
   "language": "python",
   "name": "python3"
  },
  "language_info": {
   "codemirror_mode": {
    "name": "ipython",
    "version": 3
   },
   "file_extension": ".py",
   "mimetype": "text/x-python",
   "name": "python",
   "nbconvert_exporter": "python",
   "pygments_lexer": "ipython3",
   "version": "3.11.5"
  }
 },
 "nbformat": 4,
 "nbformat_minor": 2
}
