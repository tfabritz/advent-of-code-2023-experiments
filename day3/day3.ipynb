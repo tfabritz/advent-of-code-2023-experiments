{
 "cells": [
  {
   "cell_type": "code",
   "execution_count": null,
   "metadata": {},
   "outputs": [],
   "source": [
    "import re\n",
    "from typing import Tuple, List, Dict"
   ]
  },
  {
   "cell_type": "markdown",
   "metadata": {},
   "source": [
    "part 1"
   ]
  },
  {
   "cell_type": "code",
   "execution_count": null,
   "metadata": {},
   "outputs": [],
   "source": [
    "with open(\"input.txt\") as f:\n",
    "    lines = f.readlines()\n",
    "lines = [l.strip() for l in lines]\n",
    "lines[:10]"
   ]
  },
  {
   "cell_type": "code",
   "execution_count": null,
   "metadata": {},
   "outputs": [],
   "source": [
    "def has_adjacent_symbol(map: List[str], line: int, span: Tuple[int, int]):\n",
    "    limit_x = len(map[0])\n",
    "    limit_y = len(map)\n",
    "    for y in range(max(0, line - 1), min(limit_y, line + 1 + 1)):\n",
    "        for x in range(max(0, span[0] - 1), min(limit_x, span[1] + 1)):\n",
    "            # print(f\"({y},{x}) -> {map[y][x]}\")\n",
    "            if map[y][x] not in \".0123456789\":\n",
    "                return True\n",
    "    return False\n",
    "\n",
    "\n",
    "has_adjacent_symbol(lines, 0, (2, 5))"
   ]
  },
  {
   "cell_type": "code",
   "execution_count": null,
   "metadata": {},
   "outputs": [],
   "source": [
    "renums = re.compile(r\"\\d+\")\n",
    "\n",
    "sum = 0\n",
    "for i in range(0, len(lines)):\n",
    "    for m in re.finditer(renums, lines[i]):\n",
    "        num = int(m.group())\n",
    "        span = m.span()\n",
    "        if has_adjacent_symbol(lines, i, span):\n",
    "            sum += num\n",
    "\n",
    "print(sum)"
   ]
  },
  {
   "cell_type": "markdown",
   "metadata": {},
   "source": [
    "part 2"
   ]
  },
  {
   "cell_type": "code",
   "execution_count": null,
   "metadata": {},
   "outputs": [],
   "source": [
    "def map_adjacent_gear(\n",
    "    map: List[str],\n",
    "    line: int,\n",
    "    span: Tuple[int, int],\n",
    "    val: int,\n",
    "    gear_map: Dict[Tuple[int, int], List[int]],\n",
    ") -> None:\n",
    "    limit_x = len(map[0])\n",
    "    limit_y = len(map)\n",
    "    for y in range(max(0, line - 1), min(limit_y, line + 1 + 1)):\n",
    "        for x in range(max(0, span[0] - 1), min(limit_x, span[1] + 1)):\n",
    "            # print(f\"({y},{x}) -> {map[y][x]}\")\n",
    "            if map[y][x] == \"*\":\n",
    "                if (y, x) not in gear_map:\n",
    "                    gear_map[(y, x)] = [val]\n",
    "                else:\n",
    "                    gear_map[(y, x)].append(val)"
   ]
  },
  {
   "cell_type": "code",
   "execution_count": null,
   "metadata": {},
   "outputs": [],
   "source": [
    "renums = re.compile(r\"\\d+\")\n",
    "\n",
    "gear_map = {}\n",
    "for i in range(0, len(lines)):\n",
    "    for m in re.finditer(renums, lines[i]):\n",
    "        num = int(m.group())\n",
    "        span = m.span()\n",
    "        map_adjacent_gear(lines, i, span, num, gear_map)\n",
    "\n",
    "gear_map_sum = 0\n",
    "for _, v in gear_map.items():\n",
    "    if len(v) == 2:\n",
    "        gear_map_sum += v[0] * v[1]\n",
    "\n",
    "gear_map_sum"
   ]
  }
 ],
 "metadata": {
  "kernelspec": {
   "display_name": "aoc",
   "language": "python",
   "name": "python3"
  },
  "language_info": {
   "codemirror_mode": {
    "name": "ipython",
    "version": 3
   },
   "file_extension": ".py",
   "mimetype": "text/x-python",
   "name": "python",
   "nbconvert_exporter": "python",
   "pygments_lexer": "ipython3",
   "version": "3.11.5"
  }
 },
 "nbformat": 4,
 "nbformat_minor": 2
}
