{
 "cells": [
  {
   "cell_type": "code",
   "execution_count": null,
   "metadata": {},
   "outputs": [],
   "source": []
  },
  {
   "cell_type": "code",
   "execution_count": null,
   "metadata": {},
   "outputs": [],
   "source": [
    "with open(\"input.txt\") as f:\n",
    "    lines = f.readlines()\n",
    "lines = [l.strip() for l in lines]\n",
    "lines[:5]"
   ]
  },
  {
   "cell_type": "code",
   "execution_count": null,
   "metadata": {},
   "outputs": [],
   "source": [
    "# possible directions are north, south, west, east - no diagonal\n",
    "# | north south\n",
    "# - west east\n",
    "# L north east\n",
    "# J north west\n",
    "# 7 west south\n",
    "# F east south\n",
    "\n",
    "# axis\n",
    "# y is north south with +1 being one step south\n",
    "# x is west east with +1 being one step east"
   ]
  },
  {
   "cell_type": "code",
   "execution_count": null,
   "metadata": {},
   "outputs": [],
   "source": [
    "# per tile, movement to enter and resulting movement to exit\n",
    "move_dict = {\n",
    "    \"|\": {(1, 0): (1, 0), (-1, 0): (-1, 0)},\n",
    "    \"-\": {(0, 1): (0, 1), (0, -1): (0, -1)},\n",
    "    \"L\": {(1, 0): (0, 1), (0, -1): (-1, 0)},\n",
    "    \"J\": {(1, 0): (0, -1), (0, 1): (-1, 0)},\n",
    "    \"7\": {(-1, 0): (0, -1), (0, 1): (1, 0)},\n",
    "    \"F\": {(-1, 0): (0, 1), (0, -1): (1, 0)},\n",
    "}"
   ]
  },
  {
   "cell_type": "code",
   "execution_count": null,
   "metadata": {},
   "outputs": [],
   "source": [
    "def move(start, movement):\n",
    "    return (start[0] + movement[0], start[1] + movement[1])\n",
    "\n",
    "\n",
    "def get_tile(pos):\n",
    "    return lines[pos[0]][pos[1]]"
   ]
  },
  {
   "cell_type": "markdown",
   "metadata": {},
   "source": [
    "part 1"
   ]
  },
  {
   "cell_type": "code",
   "execution_count": null,
   "metadata": {},
   "outputs": [],
   "source": [
    "# find start position first\n",
    "start_position = (-1, -1)\n",
    "for i in range(0, len(lines)):\n",
    "    for j in range(0, len(lines[i])):\n",
    "        if lines[i][j] == \"S\":\n",
    "            start_position = (i, j)\n",
    "start_position"
   ]
  },
  {
   "cell_type": "code",
   "execution_count": null,
   "metadata": {},
   "outputs": [],
   "source": [
    "# find start direction\n",
    "# because of single loop, there can only be 2\n",
    "possible_movements = [(1, 0), (-1, 0), (0, 1), (0, -1)]\n",
    "first_move = (0, 0)\n",
    "for pm in possible_movements:\n",
    "    next_possible_pos = move(start_position, pm)\n",
    "    if pm in move_dict[lines[next_possible_pos[0]][next_possible_pos[1]]]:\n",
    "        first_move = pm\n",
    "        break\n",
    "first_move"
   ]
  },
  {
   "cell_type": "code",
   "execution_count": null,
   "metadata": {},
   "outputs": [],
   "source": [
    "def move_through_loop(start, first_move):\n",
    "    # always move once to avoid finishing immediatly\n",
    "    steps = 1\n",
    "    curr_pos = start\n",
    "    curr_move = first_move\n",
    "\n",
    "    finished = False\n",
    "\n",
    "    while not finished:\n",
    "        curr_pos = move(curr_pos, curr_move)\n",
    "        # print(f\"moved to {curr_pos}\")\n",
    "        curr_tile = get_tile(curr_pos)\n",
    "        if curr_tile == \"S\":\n",
    "            return steps\n",
    "        # print(curr_tile)\n",
    "        curr_move = move_dict[curr_tile][curr_move]\n",
    "        # print(f\"next move is {curr_move}\")\n",
    "        steps += 1\n",
    "\n",
    "    return steps\n",
    "\n",
    "\n",
    "int(move_through_loop(start_position, first_move) / 2)"
   ]
  }
 ],
 "metadata": {
  "kernelspec": {
   "display_name": "aoc",
   "language": "python",
   "name": "python3"
  },
  "language_info": {
   "codemirror_mode": {
    "name": "ipython",
    "version": 3
   },
   "file_extension": ".py",
   "mimetype": "text/x-python",
   "name": "python",
   "nbconvert_exporter": "python",
   "pygments_lexer": "ipython3",
   "version": "3.11.5"
  }
 },
 "nbformat": 4,
 "nbformat_minor": 2
}
