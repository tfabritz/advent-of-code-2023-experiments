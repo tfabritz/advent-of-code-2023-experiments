{
 "cells": [
  {
   "cell_type": "code",
   "execution_count": null,
   "metadata": {},
   "outputs": [],
   "source": [
    "from typing import Tuple, List"
   ]
  },
  {
   "cell_type": "code",
   "execution_count": null,
   "metadata": {},
   "outputs": [],
   "source": [
    "with open(\"input.txt\") as f:\n",
    "    lines = f.readlines()\n",
    "lines = [l.strip() for l in lines]\n",
    "lines[:5]"
   ]
  },
  {
   "cell_type": "code",
   "execution_count": null,
   "metadata": {},
   "outputs": [],
   "source": [
    "# possible directions are north, south, west, east - no diagonal\n",
    "# | north south\n",
    "# - west east\n",
    "# L north east\n",
    "# J north west\n",
    "# 7 west south\n",
    "# F east south\n",
    "\n",
    "# axis\n",
    "# y is north south with +1 being one step south\n",
    "# x is west east with +1 being one step east"
   ]
  },
  {
   "cell_type": "code",
   "execution_count": null,
   "metadata": {},
   "outputs": [],
   "source": [
    "# per tile, movement to enter and resulting movement to exit\n",
    "move_dict = {\n",
    "    \"|\": {(1, 0): (1, 0), (-1, 0): (-1, 0)},\n",
    "    \"-\": {(0, 1): (0, 1), (0, -1): (0, -1)},\n",
    "    \"L\": {(1, 0): (0, 1), (0, -1): (-1, 0)},\n",
    "    \"J\": {(1, 0): (0, -1), (0, 1): (-1, 0)},\n",
    "    \"7\": {(-1, 0): (0, -1), (0, 1): (1, 0)},\n",
    "    \"F\": {(-1, 0): (0, 1), (0, -1): (1, 0)},\n",
    "}"
   ]
  },
  {
   "cell_type": "code",
   "execution_count": null,
   "metadata": {},
   "outputs": [],
   "source": [
    "def move(start: Tuple[int, int], movement: Tuple[int, int]) -> Tuple[int, int]:\n",
    "    return (start[0] + movement[0], start[1] + movement[1])\n",
    "\n",
    "\n",
    "def get_tile(pos: Tuple[int, int]) -> str:\n",
    "    return lines[pos[0]][pos[1]]"
   ]
  },
  {
   "cell_type": "markdown",
   "metadata": {},
   "source": [
    "part 1"
   ]
  },
  {
   "cell_type": "code",
   "execution_count": null,
   "metadata": {},
   "outputs": [],
   "source": [
    "# find start position first\n",
    "start_position = (-1, -1)\n",
    "for i in range(0, len(lines)):\n",
    "    for j in range(0, len(lines[i])):\n",
    "        if lines[i][j] == \"S\":\n",
    "            start_position = (i, j)\n",
    "start_position"
   ]
  },
  {
   "cell_type": "code",
   "execution_count": null,
   "metadata": {},
   "outputs": [],
   "source": [
    "# find start direction by checking allowed inbound movement of next field and if it matches the movement to get there\n",
    "# because of single loop, there can only be 2\n",
    "# take first that is found\n",
    "possible_movements = [(1, 0), (-1, 0), (0, 1), (0, -1)]\n",
    "first_move = (0, 0)\n",
    "for pm in possible_movements:\n",
    "    next_possible_pos = move(start_position, pm)\n",
    "    if pm in move_dict[get_tile(next_possible_pos)]:\n",
    "        first_move = pm\n",
    "        break\n",
    "first_move"
   ]
  },
  {
   "cell_type": "code",
   "execution_count": null,
   "metadata": {},
   "outputs": [],
   "source": [
    "def move_through_loop(start: Tuple[int, int], first_move: Tuple[int, int]):\n",
    "    # always move once to avoid finishing immediatly\n",
    "    steps = 1\n",
    "    curr_pos = start\n",
    "    curr_move = first_move\n",
    "\n",
    "    finished = False\n",
    "\n",
    "    while not finished:\n",
    "        curr_pos = move(curr_pos, curr_move)\n",
    "        # print(f\"moved to {curr_pos}\")\n",
    "        curr_tile = get_tile(curr_pos)\n",
    "        if curr_tile == \"S\":\n",
    "            return steps\n",
    "        # print(curr_tile)\n",
    "        curr_move = move_dict[curr_tile][curr_move]\n",
    "        # print(f\"next move is {curr_move}\")\n",
    "        steps += 1\n",
    "\n",
    "    return steps\n",
    "\n",
    "\n",
    "int(move_through_loop(start_position, first_move) / 2)"
   ]
  },
  {
   "cell_type": "markdown",
   "metadata": {},
   "source": [
    "part 2"
   ]
  },
  {
   "cell_type": "code",
   "execution_count": null,
   "metadata": {},
   "outputs": [],
   "source": [
    "# that computer graphics lecture many years ago is finally useful\n",
    "# idea\n",
    "# Treat loop as polygon, fire a beam and count how often it intersects\n",
    "# if that is an uneven amount of times, point is inside\n",
    "# Described in more detail here\n",
    "# https://en.wikipedia.org/wiki/Point_in_polygon\n",
    "# Because a lot of vertices are hit, apply that trick to check if next point on path is below\n",
    "# Thats pretty easy, because that only happens in case of it being F or 7"
   ]
  },
  {
   "cell_type": "code",
   "execution_count": null,
   "metadata": {},
   "outputs": [],
   "source": [
    "def move_through_loop_path(\n",
    "    start: Tuple[int, int], first_move: Tuple[int, int]\n",
    ") -> List[Tuple[int, int]]:\n",
    "    # always move once to avoid finishing immediatly\n",
    "    path = [start]\n",
    "    curr_pos = start\n",
    "    curr_move = first_move\n",
    "\n",
    "    finished = False\n",
    "\n",
    "    while not finished:\n",
    "        curr_pos = move(curr_pos, curr_move)\n",
    "        # print(f\"moved to {curr_pos}\")\n",
    "        curr_tile = get_tile(curr_pos)\n",
    "        if curr_tile == \"S\":\n",
    "            return path\n",
    "        # print(curr_tile)\n",
    "        curr_move = move_dict[curr_tile][curr_move]\n",
    "        # print(f\"next move is {curr_move}\")\n",
    "        path.append(curr_pos)\n",
    "\n",
    "    return path\n",
    "\n",
    "\n",
    "loop_path = move_through_loop_path(start_position, first_move)"
   ]
  },
  {
   "cell_type": "code",
   "execution_count": null,
   "metadata": {},
   "outputs": [],
   "source": [
    "def shoot_beams(\n",
    "    tile: Tuple[int, int], loop_tiles: set[Tuple[int, int]], maze: List[str]\n",
    "):\n",
    "    if tile in loop_tiles:\n",
    "        return 0\n",
    "\n",
    "    # S can be every other symbol, instead of replacing it with the right one,\n",
    "    # just shoot into the opposite direction if it is hit\n",
    "    found_start = False\n",
    "\n",
    "    # shoot east\n",
    "    s_pos = tile\n",
    "    n_intersects = 0\n",
    "    while s_pos[1] < len(maze[0]) - 1:\n",
    "        s_pos = move(s_pos, (0, 1))\n",
    "        s_tile = get_tile(s_pos)\n",
    "        if s_tile == \"S\":\n",
    "            found_start = True\n",
    "            break\n",
    "        if s_pos in loop_tiles and s_tile in \"|F7\":\n",
    "            n_intersects += 1\n",
    "\n",
    "    if found_start:\n",
    "        s_pos = tile\n",
    "        n_intersects = 0\n",
    "        while s_pos[1] > 0:\n",
    "            s_pos = move(s_pos, (0, -1))\n",
    "            if s_pos in loop_tiles and get_tile(s_pos) in \"|F7\":\n",
    "                n_intersects += 1\n",
    "\n",
    "    return n_intersects\n",
    "\n",
    "\n",
    "loop_tiles = set(loop_path)\n",
    "shoot_beams((5, 5), loop_tiles, lines)"
   ]
  },
  {
   "cell_type": "code",
   "execution_count": null,
   "metadata": {},
   "outputs": [],
   "source": [
    "inside_fields = 0\n",
    "for i in range(0, len(lines)):\n",
    "    for j in range(0, len(lines[0])):\n",
    "        if (i, j) in loop_tiles:\n",
    "            continue\n",
    "        intersects = shoot_beams((i, j), loop_tiles, lines)\n",
    "        if intersects % 2 == 1:\n",
    "            inside_fields += 1\n",
    "inside_fields"
   ]
  }
 ],
 "metadata": {
  "kernelspec": {
   "display_name": "aoc",
   "language": "python",
   "name": "python3"
  },
  "language_info": {
   "codemirror_mode": {
    "name": "ipython",
    "version": 3
   },
   "file_extension": ".py",
   "mimetype": "text/x-python",
   "name": "python",
   "nbconvert_exporter": "python",
   "pygments_lexer": "ipython3",
   "version": "3.11.5"
  }
 },
 "nbformat": 4,
 "nbformat_minor": 2
}
