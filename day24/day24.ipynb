{
 "cells": [
  {
   "cell_type": "code",
   "execution_count": null,
   "metadata": {},
   "outputs": [],
   "source": [
    "from sympy import Point, Line"
   ]
  },
  {
   "cell_type": "code",
   "execution_count": null,
   "metadata": {},
   "outputs": [],
   "source": [
    "with open(\"input.txt\") as f:\n",
    "    lines = f.readlines()\n",
    "lines = [l.strip() for l in lines]\n",
    "lines[:5]"
   ]
  },
  {
   "cell_type": "code",
   "execution_count": null,
   "metadata": {},
   "outputs": [],
   "source": [
    "hailstones = [\n",
    "    [\n",
    "        (\n",
    "            int(v.split(\",\")[0].strip()),\n",
    "            int(v.split(\",\")[1].strip()),\n",
    "            int(v.split(\",\")[2].strip()),\n",
    "        )\n",
    "        for v in l.split(\"@\")\n",
    "    ]\n",
    "    for l in lines\n",
    "]\n",
    "hailstones[:5]"
   ]
  },
  {
   "cell_type": "code",
   "execution_count": null,
   "metadata": {},
   "outputs": [],
   "source": [
    "def mv_pos_2d(pos, dir):\n",
    "    return (pos[0] + dir[0], pos[1] + dir[1])"
   ]
  },
  {
   "cell_type": "code",
   "execution_count": null,
   "metadata": {},
   "outputs": [],
   "source": [
    "test_min = 200000000000000\n",
    "test_max = 400000000000000\n",
    "\n",
    "intersect_counts = 0\n",
    "for i in range(0, len(hailstones) - 1):\n",
    "    h1 = hailstones[i]\n",
    "    for j in range(i + 1, len(hailstones)):\n",
    "        h2 = hailstones[j]\n",
    "\n",
    "        h1_p1 = Point(h1[0][:2])\n",
    "        h1_p2 = Point(mv_pos_2d(h1[0][:2], h1[1][:2]))\n",
    "        h1_line = Line(h1_p1, h1_p2)\n",
    "\n",
    "        h2_p1 = Point(h2[0][:2])\n",
    "        h2_p2 = Point(mv_pos_2d(h2[0][:2], h2[1][:2]))\n",
    "        h2_line = Line(h2_p1, h2_p2)\n",
    "\n",
    "        intersection = h1_line.intersection(h2_line)\n",
    "\n",
    "        if not intersection:\n",
    "            continue\n",
    "\n",
    "        if (\n",
    "            intersection[0][0] < test_min\n",
    "            or intersection[0][0] > test_max\n",
    "            or intersection[0][1] < test_min\n",
    "            or intersection[0][1] > test_max\n",
    "        ):\n",
    "            continue\n",
    "\n",
    "        # print(h1_line, h2_line)\n",
    "        # print(intersection)\n",
    "        # print(Line(h1_p1, intersection[0]).angle_between(h1_line), Line(h2_p1, intersection[0]).angle_between(h2_line))\n",
    "        if (\n",
    "            Line(h1_p1, intersection[0]).angle_between(h1_line) == 0\n",
    "            and Line(h2_p1, intersection[0]).angle_between(h2_line) == 0\n",
    "        ):\n",
    "            intersect_counts += 1\n",
    "intersect_counts"
   ]
  },
  {
   "cell_type": "markdown",
   "metadata": {},
   "source": [
    "part 2"
   ]
  },
  {
   "cell_type": "markdown",
   "metadata": {},
   "source": [
    "Idea is to put it into a equation system like this (only for first 2 example hailstones):\n",
    "The rock has the same start position and velocity for all hailstones and must share the same position for a given timestamp (l1, l2, ...) that can be different between hailstones.\n",
    "\n",
    "Rock is r_v1 + l*r_v2\n",
    "\n",
    "hailstone1    19, 13, 30 @ -2, 1, -2    h1_v1 = (19,13,30)  h1_v2 = (-2,1,-2)\n",
    "hailstone2    18, 19, 22 @ -1, -1, -2   h2_v1 = (18,19,22)  h2_v2 = (-1,-1,-2)\n",
    "\n",
    "h1_v1 + l1 * h1_v2 = r_v1 + l1 * r_v2\n",
    "h2_v1 + l2 * h2_v2 = r_v1 + l2 * r_v2\n",
    "\n",
    "19 + -2*l1 = r1_x + l1 * r2_x\n",
    "13 +  1*l1 = r1_y + l1 * r2_y\n",
    "30 + -2*l1 = r1_z + l1 * r2_z\n",
    "18 + -1*l2 = r1_x + l2 * r2_x\n",
    "19 + -1*l2 = r1_y + l2 * r2_y\n",
    "22 + -2*l2 = r1_z + l2 * r2_z\n",
    "\n",
    "And then solve it using a linear solver like z3"
   ]
  },
  {
   "cell_type": "code",
   "execution_count": null,
   "metadata": {},
   "outputs": [],
   "source": [
    "from z3 import *\n",
    "\n",
    "r_vars = Ints(\"r11 r12 r13 r21 r22 r23\")\n",
    "s = Solver()\n",
    "\n",
    "for i in range(0, len(hailstones)):\n",
    "    l_var = Ints(f\"l{i}\")[0]\n",
    "    hs = hailstones[i]\n",
    "\n",
    "    s.add(hs[0][0] + (hs[1][0] * l_var) == r_vars[0] + l_var * r_vars[3])\n",
    "    s.add(hs[0][1] + (hs[1][1] * l_var) == r_vars[1] + l_var * r_vars[4])\n",
    "    s.add(hs[0][2] + (hs[1][2] * l_var) == r_vars[2] + l_var * r_vars[5])\n",
    "\n",
    "# print(s.sexpr())"
   ]
  },
  {
   "cell_type": "code",
   "execution_count": null,
   "metadata": {},
   "outputs": [],
   "source": [
    "s.check()\n",
    "model = s.model()\n",
    "# print(model)\n",
    "int(str(model[r_vars[0]])) + int(str(model[r_vars[1]])) + int(str(model[r_vars[2]]))"
   ]
  }
 ],
 "metadata": {
  "kernelspec": {
   "display_name": "aoc",
   "language": "python",
   "name": "python3"
  },
  "language_info": {
   "codemirror_mode": {
    "name": "ipython",
    "version": 3
   },
   "file_extension": ".py",
   "mimetype": "text/x-python",
   "name": "python",
   "nbconvert_exporter": "python",
   "pygments_lexer": "ipython3",
   "version": "3.11.5"
  }
 },
 "nbformat": 4,
 "nbformat_minor": 2
}
