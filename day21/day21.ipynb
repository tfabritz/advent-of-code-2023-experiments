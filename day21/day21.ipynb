{
 "cells": [
  {
   "cell_type": "code",
   "execution_count": null,
   "metadata": {},
   "outputs": [],
   "source": [
    "from functools import cache\n",
    "import numpy as np"
   ]
  },
  {
   "cell_type": "code",
   "execution_count": null,
   "metadata": {},
   "outputs": [],
   "source": [
    "with open(\"input.txt\") as f:\n",
    "    lines = f.readlines()\n",
    "lines = [l.strip() for l in lines]\n",
    "lines[:5]"
   ]
  },
  {
   "cell_type": "code",
   "execution_count": null,
   "metadata": {},
   "outputs": [],
   "source": [
    "garden = lines.copy()"
   ]
  },
  {
   "cell_type": "code",
   "execution_count": null,
   "metadata": {},
   "outputs": [],
   "source": [
    "dirs = [(0, 1), (-1, 0), (1, 0), (0, -1)]\n",
    "\n",
    "\n",
    "def mv_pos(pos, dir):\n",
    "    return (pos[0] + dir[0], pos[1] + dir[1])\n",
    "\n",
    "\n",
    "def get_field(pos, field):\n",
    "    return field[pos[0]][pos[1]]\n",
    "\n",
    "\n",
    "def in_bounds(pos, field):\n",
    "    return (\n",
    "        pos[0] >= 0 and pos[0] < len(field) and pos[1] >= 0 and pos[1] < len(field[0])\n",
    "    )\n",
    "\n",
    "\n",
    "def in_bounds_dim(pos, max_y, max_x):\n",
    "    return pos[0] >= 0 and pos[0] < max_y and pos[1] >= 0 and pos[1] < max_x"
   ]
  },
  {
   "cell_type": "code",
   "execution_count": null,
   "metadata": {},
   "outputs": [],
   "source": [
    "start_pos = (-1, -1)\n",
    "for i in range(0, len(garden)):\n",
    "    for j in range(0, len(garden[0])):\n",
    "        if get_field((i, j), garden) == \"S\":\n",
    "            start_pos = (i, j)\n",
    "start_pos"
   ]
  },
  {
   "cell_type": "code",
   "execution_count": null,
   "metadata": {},
   "outputs": [],
   "source": [
    "@cache\n",
    "def step_search(pos, moves_left):\n",
    "    if moves_left == 0:\n",
    "        return set([pos])\n",
    "\n",
    "    pos_moves = set()\n",
    "    for d in dirs:\n",
    "        next_pos = mv_pos(pos, d)\n",
    "        if in_bounds(next_pos, garden) and get_field(next_pos, garden) != \"#\":\n",
    "            pos_moves = pos_moves.union(step_search(next_pos, moves_left - 1))\n",
    "    return pos_moves\n",
    "\n",
    "\n",
    "# len(step_search(start_pos, 64))"
   ]
  },
  {
   "cell_type": "markdown",
   "metadata": {},
   "source": [
    "part 2"
   ]
  },
  {
   "cell_type": "code",
   "execution_count": null,
   "metadata": {},
   "outputs": [],
   "source": [
    "# Recursion was very slow and blew up the call stack\n",
    "# So a non-recursive search was needed\n",
    "# The infinitely repeated board is implemented by computing the position modulo board size and then looking up that value on the original board\n",
    "\n",
    "max_y = len(garden)\n",
    "max_x = len(garden[0])\n",
    "\n",
    "garden_arr = np.array([\".\"] * (max_y * max_x)).reshape((max_y, max_x))\n",
    "for i in range(0, len(garden)):\n",
    "    for j in range(0, len(garden[0])):\n",
    "        garden_arr[i][j] = garden[i][j]\n",
    "\n",
    "\n",
    "def pos_mod(pos, max_y, max_x):\n",
    "    return (pos[0] % max_y, pos[1] % max_x)\n",
    "\n",
    "\n",
    "def step_search_inf(steps):\n",
    "    # A set of tuples with positions and steps left\n",
    "    # if it was already checked from there, no need to do again\n",
    "    already_looked_from_here = set()\n",
    "    search_stack = []\n",
    "\n",
    "    search_stack.append((start_pos, steps))\n",
    "\n",
    "    reachable_positions = set()\n",
    "\n",
    "    while len(search_stack) > 0:\n",
    "        curr_pos_search = search_stack.pop()\n",
    "        curr_pos = curr_pos_search[0]\n",
    "        curr_steps = curr_pos_search[1]\n",
    "\n",
    "        if (curr_pos, curr_steps) in already_looked_from_here:\n",
    "            continue\n",
    "        else:\n",
    "            already_looked_from_here.add((curr_pos, curr_steps))\n",
    "\n",
    "        if curr_pos_search[1] == 0:\n",
    "            reachable_positions.add((curr_pos_search[0]))\n",
    "            continue\n",
    "\n",
    "        for d in dirs:\n",
    "            next_pos = mv_pos(curr_pos_search[0], d)\n",
    "            if get_field(pos_mod(next_pos, max_y, max_x), garden_arr) != \"#\":\n",
    "                search_stack.append((next_pos, curr_pos_search[1] - 1))\n",
    "\n",
    "    return reachable_positions\n",
    "\n",
    "\n",
    "# print(step_search_inf(10))\n",
    "len(step_search_inf(65 + 0 * 131))"
   ]
  },
  {
   "cell_type": "code",
   "execution_count": null,
   "metadata": {},
   "outputs": [],
   "source": [
    "# As always, brute force didn't work out\n",
    "# I am happy with the non-recursive implementation\n",
    "# But I did not figure out how to handle the actual input and the sheer size\n",
    "# The property of the actual input with the middle column and middle row being empty eluded me,\n",
    "# and while I was sure there must be some cycle to spot, I didn't make the connection\n",
    "# Coming back to the problem after a while with the tips of the repeats and the empty column and rows, the problem was solved"
   ]
  },
  {
   "cell_type": "code",
   "execution_count": null,
   "metadata": {},
   "outputs": [],
   "source": [
    "# The first idea is to see if the growth becomes stable in a way, either directly in the difference between two iterations\n",
    "# or that the change between two differences becomes stable\n",
    "# Because the board is repeated, the assumption is that the cycles depend on board size\n",
    "\n",
    "# this works for example and and real input\n",
    "\n",
    "# For example, lets take target value of 1000 steps on example input\n",
    "# which can be written as 10 + (11*90), cycling 90 times (if a cycle exists) with an offset of 10\n",
    "\n",
    "# iterating through first few steps to look at the change between values and the change of changes between values\n",
    "# Steps are 10 + (11*x) with x being a step\n",
    "# After x=4 the diffdiff starts to be the same at 162\n",
    "\n",
    "# This is the code for the example input\n",
    "last_val = 0\n",
    "diff = 0\n",
    "diffdiff = 0\n",
    "cycle = 11\n",
    "for i in range(0, 8):\n",
    "    x = 10 + (cycle * i)\n",
    "    il = len(step_search_inf(x))\n",
    "    temp_diff = il - last_val\n",
    "    diffdiff = temp_diff - diff\n",
    "    diff = temp_diff\n",
    "    last_val = il\n",
    "    print(f\"i={i}, x={x}, il={il}, diff={diff}, diffdiff={diffdiff}\")"
   ]
  },
  {
   "cell_type": "code",
   "execution_count": null,
   "metadata": {},
   "outputs": [],
   "source": [
    "x = 90 - 4  # - 4 because its only stable after the 4th step\n",
    "\n",
    "res = 1853  # First il value before the diffdiff becomes stable\n",
    "diff_base = 707  # diff value before diffdiff becomes stable\n",
    "diffdiff = 162  # stable diffdiff\n",
    "\n",
    "for i in range(0, x):\n",
    "    res += diff_base + ((i + 1) * diffdiff)\n",
    "assert res == 668697"
   ]
  },
  {
   "cell_type": "code",
   "execution_count": null,
   "metadata": {},
   "outputs": [],
   "source": [
    "# or if we want to compute 5000 steps:\n",
    "# 50 + (11*450) -> 450 steps  with 50 offset\n",
    "last_val = 0\n",
    "diff = 0\n",
    "diffdiff = 0\n",
    "cycle = 11\n",
    "for i in range(0, 4):\n",
    "    x = 50 + (cycle * i)\n",
    "    il = len(step_search_inf(x))\n",
    "    temp_diff = il - last_val\n",
    "    diffdiff = temp_diff - diff\n",
    "    diff = temp_diff\n",
    "    last_val = il\n",
    "    print(f\"i={i}, x={x}, il={il}, diff={diff}, diffdiff={diffdiff}\")\n",
    "\n",
    "\n",
    "x = 450 - 1  # stable already after i = 1\n",
    "\n",
    "res = 2406  # First il value before the diffdiff becomes stable\n",
    "diff_base = 812  # diff value before diffdiff becomes stable\n",
    "diffdiff = 162  # stable diffdiff\n",
    "\n",
    "for i in range(0, x):\n",
    "    res += diff_base + ((i + 1) * diffdiff)\n",
    "assert res == 16733044"
   ]
  },
  {
   "cell_type": "code",
   "execution_count": null,
   "metadata": {},
   "outputs": [],
   "source": [
    "# Code for the real input\n",
    "# 65 + (131*202300)\n",
    "last_val = 0\n",
    "diff = 0\n",
    "diffdiff = 0\n",
    "cycle = 131\n",
    "for i in range(0, 4):\n",
    "    x = 65 + (cycle * i)\n",
    "    il = len(step_search_inf(x))\n",
    "    temp_diff = il - last_val\n",
    "    diffdiff = temp_diff - diff\n",
    "    diff = temp_diff\n",
    "    last_val = il\n",
    "    print(f\"i={i}, x={x}, il={il}, diff={diff}, diffdiff={diffdiff}\")"
   ]
  },
  {
   "cell_type": "code",
   "execution_count": null,
   "metadata": {},
   "outputs": [],
   "source": [
    "x = int((26501365 - 65) / 131) - 1  # stable after i=1\n",
    "\n",
    "res = 0  # First il value before the diffdiff becomes stable\n",
    "diff_base = 0  # diff value before diffdiff becomes stable\n",
    "diffdiff = 0  # stable diffdiff\n",
    "\n",
    "for i in range(0, x):\n",
    "    res += diff_base + ((i + 1) * diffdiff)\n",
    "res"
   ]
  },
  {
   "cell_type": "code",
   "execution_count": 15,
   "metadata": {},
   "outputs": [],
   "source": [
    "# With the same idea, a quadratic equation can be interpolated, allowing computation of final value directly\n",
    "\n",
    "from sympy.solvers import solve\n",
    "from sympy import Symbol\n",
    "\n",
    "a = Symbol(\"a\")\n",
    "b = Symbol(\"b\")\n",
    "c = Symbol(\"c\")\n",
    "solved = solve(\n",
    "    [\n",
    "        a * (0**2) + b * 0 + c - len(step_search_inf(65 + 0 * 131)),\n",
    "        a * (1**2) + b * 1 + c - len(step_search_inf(65 + 1 * 131)),\n",
    "        a * (2**2) + b * 2 + c - len(step_search_inf(65 + 2 * 131)),\n",
    "    ]\n",
    ")\n",
    "\n",
    "x = (26501365 - 65) / 131  # 202300\n",
    "int(solved[a] * x**2 + solved[b] * x + solved[c])"
   ]
  }
 ],
 "metadata": {
  "kernelspec": {
   "display_name": "aoc",
   "language": "python",
   "name": "python3"
  },
  "language_info": {
   "codemirror_mode": {
    "name": "ipython",
    "version": 3
   },
   "file_extension": ".py",
   "mimetype": "text/x-python",
   "name": "python",
   "nbconvert_exporter": "python",
   "pygments_lexer": "ipython3",
   "version": "3.11.5"
  }
 },
 "nbformat": 4,
 "nbformat_minor": 2
}
