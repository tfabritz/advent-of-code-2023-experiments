{
 "cells": [
  {
   "cell_type": "code",
   "execution_count": null,
   "metadata": {},
   "outputs": [],
   "source": []
  },
  {
   "cell_type": "code",
   "execution_count": null,
   "metadata": {},
   "outputs": [],
   "source": [
    "with open(\"input.txt\") as f:\n",
    "    lines = f.readlines()\n",
    "lines = [l.strip() for l in lines]\n",
    "# lines[:5]"
   ]
  },
  {
   "cell_type": "code",
   "execution_count": null,
   "metadata": {},
   "outputs": [],
   "source": [
    "input_str = lines[0]\n",
    "init_seq = input_str.split(\",\")\n",
    "init_seq[:5]"
   ]
  },
  {
   "cell_type": "code",
   "execution_count": null,
   "metadata": {},
   "outputs": [],
   "source": [
    "def apply_hash(input: str) -> int:\n",
    "    output = 0\n",
    "    for c in input:\n",
    "        ascii_val = ord(c)\n",
    "        output += ascii_val\n",
    "        output *= 17\n",
    "        output = output % 256\n",
    "\n",
    "    return output\n",
    "\n",
    "\n",
    "apply_hash(init_seq[0])"
   ]
  },
  {
   "cell_type": "code",
   "execution_count": null,
   "metadata": {},
   "outputs": [],
   "source": [
    "sum([apply_hash(i) for i in init_seq])"
   ]
  },
  {
   "cell_type": "markdown",
   "metadata": {},
   "source": [
    "part 2"
   ]
  },
  {
   "cell_type": "code",
   "execution_count": null,
   "metadata": {},
   "outputs": [],
   "source": [
    "def create_empty_boxes() -> dict[int, list[str]]:\n",
    "    boxes = {}\n",
    "    for i in range(0, 256):\n",
    "        boxes[i] = []\n",
    "    return boxes\n",
    "\n",
    "\n",
    "def print_boxes(boxes) -> None:\n",
    "    for k, v in boxes.items():\n",
    "        if v:\n",
    "            print(f\"Box {k}: {v}\")\n",
    "\n",
    "\n",
    "def label_in_box(label, box) -> int:\n",
    "    for i, v in enumerate(box):\n",
    "        if v.startswith(label):\n",
    "            return i\n",
    "    return -1\n",
    "\n",
    "\n",
    "def replace_label_in_box(new_label: str, idx: int, box: list[str]) -> None:\n",
    "    box[idx] = new_label\n",
    "\n",
    "\n",
    "def delete_label_from_box(idx: int, box: list[str]) -> None:\n",
    "    box.pop(idx)"
   ]
  },
  {
   "cell_type": "code",
   "execution_count": null,
   "metadata": {},
   "outputs": [],
   "source": [
    "def apply_hashmap(input: str, boxes: dict[int, list[str]]):\n",
    "    if \"=\" in input:\n",
    "        i_s = input.split(\"=\")\n",
    "        label = i_s[0]\n",
    "        label_hash = apply_hash(label)\n",
    "        idx = label_in_box(i_s[0], boxes[label_hash])\n",
    "        if idx == -1:\n",
    "            boxes[label_hash].append(input)\n",
    "        else:\n",
    "            replace_label_in_box(input, idx, boxes[label_hash])\n",
    "    else:\n",
    "        i_s = input.split(\"-\")\n",
    "        label = i_s[0]\n",
    "        label_hash = apply_hash(label)\n",
    "        idx = label_in_box(i_s[0], boxes[label_hash])\n",
    "        if idx != -1:\n",
    "            delete_label_from_box(idx, boxes[label_hash])\n",
    "\n",
    "\n",
    "b = create_empty_boxes()\n",
    "apply_hashmap(init_seq[0], b)\n",
    "print_boxes(b)"
   ]
  },
  {
   "cell_type": "code",
   "execution_count": null,
   "metadata": {},
   "outputs": [],
   "source": [
    "b = create_empty_boxes()\n",
    "for l in init_seq:\n",
    "    apply_hashmap(l, b)\n",
    "print_boxes(b)"
   ]
  },
  {
   "cell_type": "code",
   "execution_count": null,
   "metadata": {},
   "outputs": [],
   "source": [
    "def get_focusing_power(boxes):\n",
    "    fp = 0\n",
    "    for i in range(0, 256):\n",
    "        for pos, lens in enumerate(boxes[i], start=1):\n",
    "            fp += (1 + i) * (pos) * int(lens.split(\"=\")[1])\n",
    "    return fp\n",
    "\n",
    "\n",
    "get_focusing_power(b)"
   ]
  }
 ],
 "metadata": {
  "kernelspec": {
   "display_name": "aoc",
   "language": "python",
   "name": "python3"
  },
  "language_info": {
   "codemirror_mode": {
    "name": "ipython",
    "version": 3
   },
   "file_extension": ".py",
   "mimetype": "text/x-python",
   "name": "python",
   "nbconvert_exporter": "python",
   "pygments_lexer": "ipython3",
   "version": "3.11.5"
  }
 },
 "nbformat": 4,
 "nbformat_minor": 2
}
