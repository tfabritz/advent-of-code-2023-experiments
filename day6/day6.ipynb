{
 "cells": [
  {
   "cell_type": "code",
   "execution_count": null,
   "metadata": {},
   "outputs": [],
   "source": [
    "import re"
   ]
  },
  {
   "cell_type": "code",
   "execution_count": null,
   "metadata": {},
   "outputs": [],
   "source": [
    "with open(\"input.txt\") as f:\n",
    "    lines = f.readlines()\n",
    "lines = [l.strip() for l in lines]\n",
    "lines[:10]"
   ]
  },
  {
   "cell_type": "code",
   "execution_count": null,
   "metadata": {},
   "outputs": [],
   "source": [
    "times = [int(n) for n in re.findall(r\"(\\d+)\", lines[0])]\n",
    "distances = [int(n) for n in re.findall(r\"(\\d+)\", lines[1])]\n",
    "times_distances = list(zip(times, distances))\n",
    "times_distances"
   ]
  },
  {
   "cell_type": "markdown",
   "metadata": {},
   "source": [
    "part 1"
   ]
  },
  {
   "cell_type": "code",
   "execution_count": null,
   "metadata": {},
   "outputs": [],
   "source": [
    "def get_possible_dists(available_time):\n",
    "    covered_dist_dict = {}\n",
    "    for i in range(0, available_time + 1):\n",
    "        time_pressed = i\n",
    "        if i == 0 or i == available_time:\n",
    "            covered_dist_dict[i] = 0\n",
    "        else:\n",
    "            remaining_time = available_time - time_pressed\n",
    "            covered_dist_dict[i] = remaining_time * i\n",
    "    return covered_dist_dict\n",
    "\n",
    "\n",
    "def get_possible_wins(possible_dists, max_dist):\n",
    "    return len([pd[1] for pd in possible_dists.items() if pd[1] > max_dist])\n",
    "\n",
    "\n",
    "td = times_distances[0]\n",
    "get_possible_dists(td[0])\n",
    "get_possible_wins(get_possible_dists(td[0]), td[1])"
   ]
  },
  {
   "cell_type": "code",
   "execution_count": null,
   "metadata": {},
   "outputs": [],
   "source": [
    "win_possibilities = 1\n",
    "for td in times_distances:\n",
    "    win_possibilities *= get_possible_wins(get_possible_dists(td[0]), td[1])\n",
    "win_possibilities"
   ]
  },
  {
   "cell_type": "markdown",
   "metadata": {},
   "source": [
    "part 2"
   ]
  },
  {
   "cell_type": "code",
   "execution_count": null,
   "metadata": {},
   "outputs": [],
   "source": [
    "time = [int(n) for n in re.findall(r\"(\\d+)\", lines[0].replace(\" \", \"\"))][0]\n",
    "distance = [int(n) for n in re.findall(r\"(\\d+)\", lines[1].replace(\" \", \"\"))][0]"
   ]
  },
  {
   "cell_type": "code",
   "execution_count": null,
   "metadata": {},
   "outputs": [],
   "source": [
    "get_possible_wins(get_possible_dists(time), distance)"
   ]
  }
 ],
 "metadata": {
  "kernelspec": {
   "display_name": "aoc",
   "language": "python",
   "name": "python3"
  },
  "language_info": {
   "codemirror_mode": {
    "name": "ipython",
    "version": 3
   },
   "file_extension": ".py",
   "mimetype": "text/x-python",
   "name": "python",
   "nbconvert_exporter": "python",
   "pygments_lexer": "ipython3",
   "version": "3.11.5"
  }
 },
 "nbformat": 4,
 "nbformat_minor": 2
}
