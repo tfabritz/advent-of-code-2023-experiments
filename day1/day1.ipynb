{
 "cells": [
  {
   "cell_type": "markdown",
   "id": "6ebf92e8",
   "metadata": {},
   "source": [
    "# Part 1"
   ]
  },
  {
   "cell_type": "code",
   "execution_count": null,
   "id": "5eb20e26-6828-4ff7-a18c-fe85ccbbbc97",
   "metadata": {},
   "outputs": [],
   "source": [
    "with open(\"input.txt\") as f:\n",
    "    lines = f.readlines()"
   ]
  },
  {
   "cell_type": "code",
   "execution_count": null,
   "id": "9a52ca45-dba9-4dff-939c-e842bfe4df7e",
   "metadata": {},
   "outputs": [],
   "source": [
    "lines = [l.strip() for l in lines]"
   ]
  },
  {
   "cell_type": "code",
   "execution_count": null,
   "id": "c1d22554-28c1-48d4-9183-b26a92f302ee",
   "metadata": {},
   "outputs": [],
   "source": [
    "lines[:3]"
   ]
  },
  {
   "cell_type": "code",
   "execution_count": null,
   "id": "f778a9a6-9d2d-40cc-a3fc-2fbed5068524",
   "metadata": {},
   "outputs": [],
   "source": [
    "def get_digits(line: str) -> int:\n",
    "    digits = \"0123456789\"\n",
    "    first_digit = None\n",
    "    last_digit = None\n",
    "    for i in range(0, len(line)):\n",
    "        if line[i] in digits:\n",
    "            first_digit = line[i]\n",
    "            break\n",
    "    for i in range(1, len(line) + 1):\n",
    "        if line[-i] in digits:\n",
    "            last_digit = line[-i]\n",
    "            break\n",
    "    return int(f\"{first_digit}{last_digit}\")"
   ]
  },
  {
   "cell_type": "code",
   "execution_count": null,
   "id": "4e07fd6e-b550-46e5-a871-879461696aa7",
   "metadata": {},
   "outputs": [],
   "source": [
    "first_line = lines[0]\n",
    "get_digits(first_line)"
   ]
  },
  {
   "cell_type": "code",
   "execution_count": null,
   "id": "2f32cb6a-bef9-4dad-938b-d53b21f5d4a8",
   "metadata": {},
   "outputs": [],
   "source": [
    "result = sum([get_digits(l) for l in lines])\n",
    "result"
   ]
  },
  {
   "cell_type": "markdown",
   "id": "5c51cf48",
   "metadata": {},
   "source": [
    "# Part 2"
   ]
  },
  {
   "cell_type": "code",
   "execution_count": null,
   "id": "5003e725",
   "metadata": {},
   "outputs": [],
   "source": [
    "def get_digits_2(line: str) -> int:\n",
    "    repl_map = {\n",
    "        \"one\": \"1\",\n",
    "        \"two\": \"2\",\n",
    "        \"three\": \"3\",\n",
    "        \"four\": \"4\",\n",
    "        \"five\": \"5\",\n",
    "        \"six\": \"6\",\n",
    "        \"seven\": \"7\",\n",
    "        \"eight\": \"8\",\n",
    "        \"nine\": \"9\",\n",
    "    }\n",
    "\n",
    "    digits = \"0123456789\"\n",
    "    first_digit = None\n",
    "    last_digit = None\n",
    "    for i in range(0, len(line)):\n",
    "        if line[i] in digits:\n",
    "            first_digit = line[i]\n",
    "            break\n",
    "        for w in repl_map.keys():\n",
    "            if line[i:].startswith(w):\n",
    "                first_digit = repl_map[w]\n",
    "                break\n",
    "        else:\n",
    "            continue\n",
    "        break\n",
    "    for i in range(1, len(line) + 1):\n",
    "        if line[-i] in digits:\n",
    "            last_digit = line[-i]\n",
    "            break\n",
    "        for w in repl_map.keys():\n",
    "            if line[-i:].startswith(w):\n",
    "                last_digit = repl_map[w]\n",
    "                break\n",
    "        else:\n",
    "            continue\n",
    "        break\n",
    "    return int(f\"{first_digit}{last_digit}\")"
   ]
  },
  {
   "cell_type": "code",
   "execution_count": null,
   "id": "5ecc0efa",
   "metadata": {},
   "outputs": [],
   "source": [
    "test = \"eightwothree\"\n",
    "get_digits_2(test)"
   ]
  },
  {
   "cell_type": "code",
   "execution_count": null,
   "id": "a8f1e4ba",
   "metadata": {},
   "outputs": [],
   "source": [
    "result = sum([get_digits_2(l) for l in lines])\n",
    "result"
   ]
  }
 ],
 "metadata": {
  "kernelspec": {
   "display_name": "Python 3 (ipykernel)",
   "language": "python",
   "name": "python3"
  },
  "language_info": {
   "codemirror_mode": {
    "name": "ipython",
    "version": 3
   },
   "file_extension": ".py",
   "mimetype": "text/x-python",
   "name": "python",
   "nbconvert_exporter": "python",
   "pygments_lexer": "ipython3",
   "version": "3.11.5"
  }
 },
 "nbformat": 4,
 "nbformat_minor": 5
}
