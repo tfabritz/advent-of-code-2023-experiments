{
 "cells": [
  {
   "cell_type": "code",
   "execution_count": null,
   "metadata": {},
   "outputs": [],
   "source": [
    "import re"
   ]
  },
  {
   "cell_type": "markdown",
   "metadata": {},
   "source": [
    "part 1"
   ]
  },
  {
   "cell_type": "code",
   "execution_count": null,
   "metadata": {},
   "outputs": [],
   "source": [
    "with open(\"input.txt\") as f:\n",
    "    lines = f.readlines()\n",
    "lines = [l.strip() for l in lines]\n",
    "lines[:3]"
   ]
  },
  {
   "cell_type": "code",
   "execution_count": null,
   "metadata": {},
   "outputs": [],
   "source": [
    "def get_card_matches(line: str) -> set[int]:\n",
    "    numbers = line.split(\":\")[1]\n",
    "    spl_numbers = numbers.split(\"|\")\n",
    "    winning_numbers = [int(n) for n in re.findall(r\"(\\d+)\", spl_numbers[0])]\n",
    "    my_numbers = [int(n) for n in re.findall(r\"(\\d+)\", spl_numbers[1])]\n",
    "\n",
    "    my_win_numbers = set(winning_numbers).intersection(set(my_numbers))\n",
    "    return my_win_numbers"
   ]
  },
  {
   "cell_type": "code",
   "execution_count": null,
   "metadata": {},
   "outputs": [],
   "source": [
    "points = 0\n",
    "for line in lines:\n",
    "    my_win_numbers = get_card_matches(line)\n",
    "    card_points = 0 if len(my_win_numbers) == 0 else 2 ** (len(my_win_numbers) - 1)\n",
    "    points += card_points\n",
    "\n",
    "points"
   ]
  },
  {
   "cell_type": "markdown",
   "metadata": {},
   "source": [
    "part2"
   ]
  },
  {
   "cell_type": "code",
   "execution_count": null,
   "metadata": {},
   "outputs": [],
   "source": [
    "cards = lines\n",
    "cardset = list(enumerate(lines))"
   ]
  },
  {
   "cell_type": "code",
   "execution_count": null,
   "metadata": {},
   "outputs": [],
   "source": [
    "# store all known match lengths for when they re-appear\n",
    "card_match_len_dict = {}\n",
    "\n",
    "\n",
    "def get_card_match_len(card):\n",
    "    card_num = card[0]\n",
    "    if card_num in card_match_len_dict:\n",
    "        return card_match_len_dict[card_num]\n",
    "    else:\n",
    "        card_match_len_dict[card_num] = len(get_card_matches(card[1]))\n",
    "        return card_match_len_dict[card_num]"
   ]
  },
  {
   "cell_type": "code",
   "execution_count": null,
   "metadata": {},
   "outputs": [],
   "source": [
    "card_won_count = 0\n",
    "card_stack = []\n",
    "\n",
    "for card in cardset:\n",
    "    card_stack.append(card)\n",
    "    card_won_count += 1\n",
    "\n",
    "while len(card_stack) > 0:\n",
    "    current_card = card_stack.pop()\n",
    "    current_card_pos = current_card[0]\n",
    "    current_card_matches = get_card_match_len(current_card)\n",
    "\n",
    "    for i in range(0, current_card_matches):\n",
    "        append_pos = current_card_pos + i + 1\n",
    "        if append_pos >= len(cardset):\n",
    "            continue\n",
    "        card_stack.append(cardset[append_pos])\n",
    "        card_won_count += 1\n",
    "\n",
    "\n",
    "card_won_count"
   ]
  }
 ],
 "metadata": {
  "kernelspec": {
   "display_name": "aoc",
   "language": "python",
   "name": "python3"
  },
  "language_info": {
   "codemirror_mode": {
    "name": "ipython",
    "version": 3
   },
   "file_extension": ".py",
   "mimetype": "text/x-python",
   "name": "python",
   "nbconvert_exporter": "python",
   "pygments_lexer": "ipython3",
   "version": "3.11.5"
  }
 },
 "nbformat": 4,
 "nbformat_minor": 2
}
