{
 "cells": [
  {
   "cell_type": "code",
   "execution_count": null,
   "metadata": {},
   "outputs": [],
   "source": []
  },
  {
   "cell_type": "code",
   "execution_count": null,
   "metadata": {},
   "outputs": [],
   "source": [
    "with open(\"input.txt\") as f:\n",
    "    lines = f.readlines()\n",
    "lines = [l.strip() for l in lines]\n",
    "lines[:5]"
   ]
  },
  {
   "cell_type": "code",
   "execution_count": null,
   "metadata": {},
   "outputs": [],
   "source": [
    "split_lines = [l.split(\"~\") for l in lines]\n",
    "bricks = [\n",
    "    [(int(sl.split(\",\")[0]), int(sl.split(\",\")[1]), int(sl.split(\",\")[2])) for sl in l]\n",
    "    for l in split_lines\n",
    "]\n",
    "bricks"
   ]
  },
  {
   "cell_type": "code",
   "execution_count": null,
   "metadata": {},
   "outputs": [],
   "source": [
    "# 0 x, 1 y, 2 z\n",
    "def get_min_coord(brick, dir):\n",
    "    return min(brick[0][dir], brick[1][dir])\n",
    "\n",
    "\n",
    "def get_max_coord(brick, dir):\n",
    "    return max(brick[0][dir], brick[1][dir])\n",
    "\n",
    "\n",
    "def get_min_z_coord(brick):\n",
    "    return get_min_coord(brick, 2)\n",
    "\n",
    "\n",
    "def brick_eq(brick1, brick2):\n",
    "    for d in range(0, 3):\n",
    "        if get_min_coord(brick1, d) != get_min_coord(brick2, d) or get_max_coord(\n",
    "            brick1, d\n",
    "        ) != get_max_coord(brick2, d):\n",
    "            return False\n",
    "    return True\n",
    "\n",
    "\n",
    "def brick_intersect(brick1, brick2):\n",
    "    dim_intersect_counts = 0\n",
    "    for d in range(0, 3):\n",
    "        if (\n",
    "            get_min_coord(brick1, d) <= get_max_coord(brick2, d)\n",
    "            and get_max_coord(brick1, d) >= get_min_coord(brick2, d)\n",
    "        ) or (\n",
    "            get_min_coord(brick2, d) <= get_max_coord(brick1, d)\n",
    "            and get_max_coord(brick2, d) >= get_min_coord(brick1, d)\n",
    "        ):\n",
    "            dim_intersect_counts += 1\n",
    "\n",
    "    return dim_intersect_counts == 3\n",
    "\n",
    "\n",
    "def mv_pos(pos, dir):\n",
    "    return (pos[0] + dir[0], pos[1] + dir[1], pos[2] + dir[2])\n",
    "\n",
    "\n",
    "def mv_brick(brick, dir):\n",
    "    return [mv_pos(c, dir) for c in brick]\n",
    "\n",
    "\n",
    "def try_brick_fall(brick, col_bricks):\n",
    "    new_potential_brick = mv_brick(brick, (0, 0, -1))\n",
    "\n",
    "    if get_min_z_coord(new_potential_brick) < 1:\n",
    "        return brick\n",
    "\n",
    "    # Ensure bricks are sorted by z coordinate asc, so\n",
    "    # later bricks are potentially higher, so collide earlier -> reverse\n",
    "    for cb in reversed(col_bricks):\n",
    "        if brick_intersect(new_potential_brick, cb):\n",
    "            return brick\n",
    "\n",
    "    return new_potential_brick\n",
    "\n",
    "\n",
    "# brick_intersect([(5,1,1),(4,1,1)],[(4,0,0),(4,0,0)])\n",
    "# mv_brick([(1,1,1),(1,1,1)], (0,0,1))"
   ]
  },
  {
   "cell_type": "code",
   "execution_count": null,
   "metadata": {},
   "outputs": [],
   "source": [
    "z_sorted_bricks = sorted(bricks, key=lambda b: get_min_z_coord(b))\n",
    "z_sorted_bricks"
   ]
  },
  {
   "cell_type": "code",
   "execution_count": null,
   "metadata": {},
   "outputs": [],
   "source": [
    "moved_bricks = []\n",
    "curr_max_height = 1\n",
    "for i in range(0, len(z_sorted_bricks)):\n",
    "    new_brick = z_sorted_bricks[i]\n",
    "    brick_still_moving = True\n",
    "\n",
    "    # fast fall until collision possible\n",
    "    brick_min_z = get_min_z_coord(new_brick)\n",
    "    while brick_min_z > curr_max_height + 1:\n",
    "        new_brick = mv_brick(new_brick, (0, 0, -1))\n",
    "        brick_min_z = get_min_z_coord(new_brick)\n",
    "\n",
    "    # if collision possible, check with all lower bricks, because they already fell as far as they could\n",
    "    # Still super uneffective, but with about 6 seconds fast enough\n",
    "    while brick_still_moving:\n",
    "        fallen_brick = try_brick_fall(new_brick, moved_bricks[:i])\n",
    "        if brick_eq(new_brick, fallen_brick):\n",
    "            brick_still_moving = False\n",
    "            curr_max_height = max(curr_max_height, get_max_coord(fallen_brick, 2))\n",
    "            moved_bricks.append(fallen_brick)\n",
    "        else:\n",
    "            new_brick = fallen_brick\n",
    "\n",
    "moved_bricks"
   ]
  },
  {
   "cell_type": "code",
   "execution_count": null,
   "metadata": {},
   "outputs": [],
   "source": [
    "z_sorted_moved_bricks = sorted(moved_bricks, key=lambda b: get_min_z_coord(b))\n",
    "z_sorted_moved_bricks"
   ]
  },
  {
   "cell_type": "code",
   "execution_count": null,
   "metadata": {},
   "outputs": [],
   "source": [
    "# Give a name to every brick, this makes the later parts faster for dict lookups\n",
    "named_moved_bricks = {tuple(v): k for k, v in enumerate(z_sorted_moved_bricks)}\n",
    "named_moved_bricks"
   ]
  },
  {
   "cell_type": "code",
   "execution_count": null,
   "metadata": {},
   "outputs": [],
   "source": [
    "# Check if the brick supports any other bricks\n",
    "# If False, the brick is on top of its stack (may be a stack of 1 brick though)\n",
    "def supports_another(brick, bricks):\n",
    "    max_z = get_max_coord(brick, 2)\n",
    "    potential_supported = [b for b in bricks if get_min_z_coord(b) == max_z + 1]\n",
    "    for ps in potential_supported:\n",
    "        if brick_intersect(mv_brick(brick, (0, 0, 1)), ps):\n",
    "            return True\n",
    "    return False\n",
    "\n",
    "\n",
    "# Bricks that are on top and can be disintegrated\n",
    "top_bricks = [\n",
    "    b for b in z_sorted_moved_bricks if not supports_another(b, z_sorted_moved_bricks)\n",
    "]\n",
    "top_bricks"
   ]
  },
  {
   "cell_type": "code",
   "execution_count": null,
   "metadata": {},
   "outputs": [],
   "source": [
    "# Compute a dict that maps each brick to a list of bricks it directly supports\n",
    "support_dict = {}\n",
    "\n",
    "\n",
    "def find_supported_bricks(brick, bricks):\n",
    "    max_z = get_max_coord(brick, 2)\n",
    "    potential_supported = [b for b in bricks if get_min_z_coord(b) == max_z + 1]\n",
    "    for ps in potential_supported:\n",
    "        if brick_intersect(mv_brick(brick, (0, 0, 1)), ps):\n",
    "            if named_moved_bricks[tuple(brick)] not in support_dict:\n",
    "                support_dict[named_moved_bricks[tuple(brick)]] = [\n",
    "                    named_moved_bricks[tuple(ps)]\n",
    "                ]\n",
    "            else:\n",
    "                support_dict[named_moved_bricks[tuple(brick)]].append(\n",
    "                    named_moved_bricks[tuple(ps)]\n",
    "                )\n",
    "\n",
    "\n",
    "for b in z_sorted_moved_bricks:\n",
    "    find_supported_bricks(b, z_sorted_moved_bricks)\n",
    "\n",
    "support_dict"
   ]
  },
  {
   "cell_type": "code",
   "execution_count": null,
   "metadata": {},
   "outputs": [],
   "source": [
    "# For each brick map it to a list of bricks it is supported by\n",
    "# If this is empty, it would fall (because all bricks are already dropped as low as they can go)\n",
    "supported_by_dict = {}\n",
    "for k, v in support_dict.items():\n",
    "    for brick in v:\n",
    "        if brick not in supported_by_dict:\n",
    "            supported_by_dict[brick] = [k]\n",
    "        else:\n",
    "            supported_by_dict[brick].append(k)\n",
    "supported_by_dict"
   ]
  },
  {
   "cell_type": "code",
   "execution_count": null,
   "metadata": {},
   "outputs": [],
   "source": [
    "# Get a list of bricks that are not the only support for any other brick\n",
    "# This allows them to be disintegrated without something falling\n",
    "not_single_support_bricks = []\n",
    "for k in support_dict.keys():\n",
    "    k_single_support_counts = 0\n",
    "    for v in supported_by_dict.values():\n",
    "        if len(v) == 1 and k in v:\n",
    "            k_single_support_counts += 1\n",
    "    if k_single_support_counts == 0:\n",
    "        not_single_support_bricks.append(k)\n",
    "not_single_support_bricks"
   ]
  },
  {
   "cell_type": "code",
   "execution_count": null,
   "metadata": {},
   "outputs": [],
   "source": [
    "len(not_single_support_bricks) + len(top_bricks)"
   ]
  },
  {
   "cell_type": "markdown",
   "metadata": {},
   "source": [
    "part 2"
   ]
  },
  {
   "cell_type": "code",
   "execution_count": null,
   "metadata": {},
   "outputs": [],
   "source": [
    "# If a set of bricks is falling, what other bricks are now unsupported (and will consequently fall too)\n",
    "def get_now_unsupported_bricks(falling_bricks, support_dict, supported_by_dict):\n",
    "    supported_bricks = []\n",
    "    for b in falling_bricks:\n",
    "        supported_bricks += support_dict.get(b, [])\n",
    "\n",
    "    now_unsupported = []\n",
    "    for sp in supported_bricks:\n",
    "        if len(set(supported_by_dict[sp]).difference(set(falling_bricks))) == 0:\n",
    "            now_unsupported.append(sp)\n",
    "\n",
    "    return list(set(now_unsupported))\n",
    "\n",
    "\n",
    "# If a single brick falls or disappears, how many other bricks are also falling then\n",
    "def get_falling_bricks(brick, support_dict, supported_by_dict):\n",
    "    falling_bricks_count = 0\n",
    "    falling_bricks = [brick]\n",
    "\n",
    "    still_more_falling = True\n",
    "    # Add newly falling bricks until no more bricks are falling\n",
    "    while still_more_falling:\n",
    "        falling_bricks = list(\n",
    "            set(\n",
    "                falling_bricks\n",
    "                + get_now_unsupported_bricks(\n",
    "                    falling_bricks, support_dict, supported_by_dict\n",
    "                )\n",
    "            )\n",
    "        )\n",
    "        if len(falling_bricks) > falling_bricks_count:\n",
    "            falling_bricks_count = len(falling_bricks)\n",
    "        else:\n",
    "            still_more_falling = False\n",
    "    # The initial brick isn't counted\n",
    "    return falling_bricks_count - 1\n",
    "\n",
    "\n",
    "# get_now_unsupported_bricks([6], support_dict, supported_by_dict)\n",
    "get_falling_bricks(5, support_dict, supported_by_dict)"
   ]
  },
  {
   "cell_type": "code",
   "execution_count": null,
   "metadata": {},
   "outputs": [],
   "source": [
    "fb = 0\n",
    "for i in range(0, len(z_sorted_moved_bricks)):\n",
    "    fb += get_falling_bricks(i, support_dict, supported_by_dict)\n",
    "fb"
   ]
  }
 ],
 "metadata": {
  "kernelspec": {
   "display_name": "aoc",
   "language": "python",
   "name": "python3"
  },
  "language_info": {
   "codemirror_mode": {
    "name": "ipython",
    "version": 3
   },
   "file_extension": ".py",
   "mimetype": "text/x-python",
   "name": "python",
   "nbconvert_exporter": "python",
   "pygments_lexer": "ipython3",
   "version": "3.11.5"
  }
 },
 "nbformat": 4,
 "nbformat_minor": 2
}
