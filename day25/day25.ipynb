{
 "cells": [
  {
   "cell_type": "code",
   "execution_count": null,
   "metadata": {},
   "outputs": [],
   "source": [
    "import networkx as nx\n",
    "import matplotlib.pyplot as plt"
   ]
  },
  {
   "cell_type": "code",
   "execution_count": null,
   "metadata": {},
   "outputs": [],
   "source": [
    "with open(\"input.txt\") as f:\n",
    "    lines = f.readlines()\n",
    "lines = [l.strip() for l in lines]\n",
    "lines[:5]"
   ]
  },
  {
   "cell_type": "code",
   "execution_count": null,
   "metadata": {},
   "outputs": [],
   "source": [
    "nodes = set()\n",
    "edges = set()\n",
    "\n",
    "for l in lines:\n",
    "    u = l.split(\":\")[0].strip()\n",
    "    nodes.add(u)\n",
    "    for v in l.split(\":\")[1].split():\n",
    "        v = v.strip()\n",
    "        nodes.add(v)\n",
    "        edges.add((u, v))"
   ]
  },
  {
   "cell_type": "code",
   "execution_count": null,
   "metadata": {},
   "outputs": [],
   "source": [
    "# Lets draw the graph of the modules\n",
    "G = nx.Graph()\n",
    "G.add_edges_from(edges)\n",
    "pos = nx.spring_layout(G)\n",
    "\n",
    "plt.figure(figsize=(25, 12))\n",
    "nx.draw_networkx_labels(G, pos)\n",
    "nx.draw(G, pos, node_size=250)\n",
    "plt.show()"
   ]
  },
  {
   "cell_type": "code",
   "execution_count": null,
   "metadata": {},
   "outputs": [],
   "source": [
    "# Fortunately most graph plots make the edges very obvious that need to be removed \n",
    "# Just remove both possible directions from the edges and then start from one of the nodes of the clusters to get the counts"
   ]
  },
  {
   "cell_type": "code",
   "execution_count": null,
   "metadata": {},
   "outputs": [],
   "source": [
    "connector_edges = [\n",
    "\n",
    "]\n",
    "edges_without_connectors = [e for e in edges if e not in connector_edges]"
   ]
  },
  {
   "cell_type": "code",
   "execution_count": null,
   "metadata": {},
   "outputs": [],
   "source": [
    "def get_cluster(start_node, edges):\n",
    "    nodes_to_check = [start_node]\n",
    "    node_cluster = set([start_node])\n",
    "\n",
    "    while nodes_to_check:\n",
    "        curr_node = nodes_to_check.pop()\n",
    "\n",
    "        neigh_edges = [e for e in edges if e[0] == curr_node or e[1] == curr_node]\n",
    "        for e in neigh_edges:\n",
    "            neigh = e[0] if e[1] == curr_node else e[1]\n",
    "            if neigh not in node_cluster:\n",
    "                node_cluster.add(neigh)\n",
    "                nodes_to_check.append(neigh)\n",
    "\n",
    "    return node_cluster"
   ]
  },
  {
   "cell_type": "code",
   "execution_count": null,
   "metadata": {},
   "outputs": [],
   "source": [
    "len(get_cluster(\"...\", edges_without_connectors)) * len(\n",
    "    get_cluster(\"...\", edges_without_connectors)\n",
    ")"
   ]
  }
 ],
 "metadata": {
  "kernelspec": {
   "display_name": "aoc",
   "language": "python",
   "name": "python3"
  },
  "language_info": {
   "codemirror_mode": {
    "name": "ipython",
    "version": 3
   },
   "file_extension": ".py",
   "mimetype": "text/x-python",
   "name": "python",
   "nbconvert_exporter": "python",
   "pygments_lexer": "ipython3",
   "version": "3.11.5"
  }
 },
 "nbformat": 4,
 "nbformat_minor": 2
}
