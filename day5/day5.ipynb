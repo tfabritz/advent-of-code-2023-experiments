{
 "cells": [
  {
   "cell_type": "code",
   "execution_count": null,
   "metadata": {},
   "outputs": [],
   "source": [
    "import re\n",
    "import math\n",
    "from itertools import chain\n",
    "from typing import Tuple, List"
   ]
  },
  {
   "cell_type": "markdown",
   "metadata": {},
   "source": [
    "part 1"
   ]
  },
  {
   "cell_type": "code",
   "execution_count": null,
   "metadata": {},
   "outputs": [],
   "source": [
    "with open(\"input.txt\") as f:\n",
    "    lines = f.readlines()\n",
    "lines = [l.strip() for l in lines]\n",
    "lines[:10]"
   ]
  },
  {
   "cell_type": "code",
   "execution_count": null,
   "metadata": {},
   "outputs": [],
   "source": [
    "seeds = [int(n) for n in re.findall(r\"(\\d+)\", lines[0])]\n",
    "seeds[:2]"
   ]
  },
  {
   "cell_type": "code",
   "execution_count": null,
   "metadata": {},
   "outputs": [],
   "source": [
    "# parse input file mappings\n",
    "mappings_list = []\n",
    "current_mapping_name = None\n",
    "current_mapping_list = None\n",
    "for l in lines[1:]:\n",
    "    if not l:\n",
    "        if current_mapping_name:\n",
    "            mappings_list.append((current_mapping_name, current_mapping_list))\n",
    "        else:\n",
    "            continue\n",
    "    elif l[0] not in \"0123456789\":\n",
    "        # start new mapping\n",
    "        current_mapping_name = l.split(\" \")[0]\n",
    "        current_mapping_list = []\n",
    "    else:\n",
    "        assert current_mapping_list is not None\n",
    "        current_mapping_list.append([int(n) for n in re.findall(r\"(\\d+)\", l)])\n",
    "mappings_list.append((current_mapping_name, current_mapping_list))"
   ]
  },
  {
   "cell_type": "code",
   "execution_count": null,
   "metadata": {},
   "outputs": [],
   "source": [
    "# idea is to get (start,end,shift) for each mapping\n",
    "# so for every value between start and end, the mapping is simply value+shift\n",
    "def get_category_map(category):\n",
    "    category_map_triples = []\n",
    "    for mapping in category:\n",
    "        dest_range_start = mapping[0]\n",
    "        source_range_start = mapping[1]\n",
    "        mapping_len = mapping[2]\n",
    "\n",
    "        category_map_triples.append(\n",
    "            (\n",
    "                source_range_start,\n",
    "                source_range_start + mapping_len,\n",
    "                dest_range_start - source_range_start,\n",
    "            )\n",
    "        )\n",
    "\n",
    "    return sorted(category_map_triples, key=lambda x: x[0])\n",
    "\n",
    "\n",
    "mappings_list_res = [(n, get_category_map(m)) for n, m in mappings_list]\n",
    "# mappings_list_res"
   ]
  },
  {
   "cell_type": "code",
   "execution_count": null,
   "metadata": {},
   "outputs": [],
   "source": [
    "def resolve_mapping(num, mapping):\n",
    "    mapping = mapping[1]\n",
    "    for m in mapping:\n",
    "        if num < m[1] and num >= m[0]:\n",
    "            return num + m[2]\n",
    "        elif num < m[0]:\n",
    "            break\n",
    "        else:\n",
    "            continue\n",
    "    return num\n",
    "\n",
    "\n",
    "# test cases for example input\n",
    "print(resolve_mapping(10, mappings_list_res[0]))\n",
    "print(resolve_mapping(60, mappings_list_res[0]))\n",
    "print(resolve_mapping(99, mappings_list_res[0]))"
   ]
  },
  {
   "cell_type": "code",
   "execution_count": null,
   "metadata": {},
   "outputs": [],
   "source": [
    "def resolve_location(seed):\n",
    "    for cat_map in mappings_list_res:\n",
    "        # print(cat_map[0])\n",
    "        seed_new = resolve_mapping(seed, cat_map)\n",
    "        # print(f\"{soil} -> {soil_new}\")\n",
    "        seed = seed_new\n",
    "    return seed"
   ]
  },
  {
   "cell_type": "code",
   "execution_count": null,
   "metadata": {},
   "outputs": [],
   "source": [
    "min_loc = math.inf\n",
    "for seed in seeds:\n",
    "    location = resolve_location(seed)\n",
    "    # print(soil)\n",
    "    min_loc = min(location, min_loc)\n",
    "min_loc"
   ]
  },
  {
   "cell_type": "markdown",
   "metadata": {},
   "source": [
    "part 2"
   ]
  },
  {
   "cell_type": "code",
   "execution_count": null,
   "metadata": {},
   "outputs": [],
   "source": [
    "# Mapping all values is too slow, so instead of that entire ranges are mapped into one or more mapped ranges\n",
    "\n",
    "\n",
    "def map_range(\n",
    "    r: Tuple[int, int], seed_loc_mapping: Tuple[str, List[Tuple[int, int, int]]]\n",
    ") -> List[Tuple[int, int]]:\n",
    "    # target is a list of mapped ranges\n",
    "    res_ranges = []\n",
    "    # copy the actual mapping part, so it can be manipulated\n",
    "    mapping = seed_loc_mapping[1].copy()\n",
    "    range_start = r[0]\n",
    "    range_end = r[1]\n",
    "\n",
    "    while len(mapping) > 0:\n",
    "        # take first mapping, they are sorted in increasing intervals\n",
    "        curr_mapping = mapping.pop(0)\n",
    "        # print(f\"Curr mapping: {curr_mapping}\")\n",
    "\n",
    "        # current mapping before range, so drop it\n",
    "        if range_start > curr_mapping[1]:\n",
    "            continue\n",
    "\n",
    "        # check if a part of the source range happens before the current mapping\n",
    "        if range_start < curr_mapping[0]:\n",
    "            # if so, add it without shifting and move range_start accordingly\n",
    "            res_ranges.append((range_start, curr_mapping[0], 0))\n",
    "            range_start = curr_mapping[0]\n",
    "\n",
    "        # do the part that falls into the current mapping\n",
    "        if range_start >= curr_mapping[0] and range_end <= curr_mapping[1]:\n",
    "            # and break if that covers the full source already\n",
    "            res_ranges.append((range_start, range_end, curr_mapping[2]))\n",
    "            range_start = range_end\n",
    "            break\n",
    "        elif (range_start >= curr_mapping[0]) and (range_end > curr_mapping[1]):\n",
    "            # or occupy the complete mapping range\n",
    "            res_ranges.append((range_start, curr_mapping[1], curr_mapping[2]))\n",
    "            # and continue after it\n",
    "            range_start = curr_mapping[1]\n",
    "\n",
    "    # check if room is open at the end, and add without shifting\n",
    "    if range_start < range_end:\n",
    "        res_ranges.append((range_start, range_end, 0))\n",
    "\n",
    "    # return mapped ranges with shift already applied\n",
    "    return [(r[0] + r[2], r[1] + r[2]) for r in res_ranges]\n",
    "\n",
    "\n",
    "# Test cases for example input\n",
    "# map_range((79, 93), mappings_list_res[0])\n",
    "map_range((68, 81), mappings_list_res[5])"
   ]
  },
  {
   "cell_type": "code",
   "execution_count": null,
   "metadata": {},
   "outputs": [],
   "source": [
    "# map initial range tuple iteratively through all mapping stages\n",
    "# if a mapping has multiple ranges as result, map all of them in the next step\n",
    "def full_range_mapping(\n",
    "    rng: Tuple[int, int], mappings: List[Tuple[str, List[Tuple[int, int, int]]]]\n",
    "):\n",
    "    r_list = [rng]\n",
    "    for m in mappings:\n",
    "        r_list = [map_range(r, m) for r in r_list]\n",
    "        # flatten\n",
    "        r_list = list(chain.from_iterable(r_list))\n",
    "    return r_list\n",
    "\n",
    "\n",
    "# Test cases for example input\n",
    "full_range_mapping((79, 79 + 14), mappings_list_res)"
   ]
  },
  {
   "cell_type": "code",
   "execution_count": null,
   "metadata": {},
   "outputs": [],
   "source": [
    "min_loc = math.inf\n",
    "# Map all ranges for part 2, sort ranges by their start values\n",
    "# very first value is min possible value for a range\n",
    "for i in range(0, len(seeds), 2):\n",
    "    start = seeds[i]\n",
    "    r = seeds[i + 1]\n",
    "    print(f\"Start {start}, len {r}\")\n",
    "\n",
    "    rl = full_range_mapping((start, start + r), mappings_list_res)\n",
    "    rl = sorted(rl, key=lambda x: x[0])\n",
    "\n",
    "    rl_m = rl[0][0]\n",
    "    min_loc = min(rl_m, min_loc)\n",
    "\n",
    "min_loc"
   ]
  }
 ],
 "metadata": {
  "kernelspec": {
   "display_name": "aoc",
   "language": "python",
   "name": "python3"
  },
  "language_info": {
   "codemirror_mode": {
    "name": "ipython",
    "version": 3
   },
   "file_extension": ".py",
   "mimetype": "text/x-python",
   "name": "python",
   "nbconvert_exporter": "python",
   "pygments_lexer": "ipython3",
   "version": "3.11.5"
  }
 },
 "nbformat": 4,
 "nbformat_minor": 2
}
