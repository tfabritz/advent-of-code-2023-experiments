{
 "cells": [
  {
   "cell_type": "code",
   "execution_count": null,
   "metadata": {},
   "outputs": [],
   "source": []
  },
  {
   "cell_type": "code",
   "execution_count": null,
   "metadata": {},
   "outputs": [],
   "source": [
    "with open(\"input.txt\") as f:\n",
    "    lines = f.readlines()\n",
    "lines = [l.strip() for l in lines]\n",
    "lines[:5]"
   ]
  },
  {
   "cell_type": "code",
   "execution_count": null,
   "metadata": {},
   "outputs": [],
   "source": [
    "split_lines = [l.split() for l in lines]\n",
    "dig_plan = [(l[0], int(l[1]), l[2]) for l in split_lines]\n",
    "dig_plan[:5]"
   ]
  },
  {
   "cell_type": "code",
   "execution_count": null,
   "metadata": {},
   "outputs": [],
   "source": [
    "def mv_pos(pos, dir):\n",
    "    return (pos[0] + dir[0], pos[1] + dir[1])\n",
    "\n",
    "\n",
    "def print_dig_field(visited_fields, max_x, max_y):\n",
    "    for i in range(0, max_x):\n",
    "        for j in range(0, max_y):\n",
    "            if (i, j) in visited_fields:\n",
    "                print(\"#\", end=\"\")\n",
    "            else:\n",
    "                print(\".\", end=\"\")\n",
    "        print()"
   ]
  },
  {
   "cell_type": "code",
   "execution_count": null,
   "metadata": {},
   "outputs": [],
   "source": [
    "dirs = {\"R\": (0, 1), \"U\": (-1, 0), \"D\": (1, 0), \"L\": (0, -1)}"
   ]
  },
  {
   "cell_type": "code",
   "execution_count": null,
   "metadata": {},
   "outputs": [],
   "source": [
    "start_point = (0, 0)\n",
    "digged_fields = []\n",
    "current_dig_field = start_point\n",
    "\n",
    "for d in dig_plan:\n",
    "    for i in range(0, d[1]):\n",
    "        digged_fields.append(current_dig_field)\n",
    "        current_dig_field = mv_pos(current_dig_field, dirs[d[0]])\n",
    "assert current_dig_field == start_point\n",
    "\n",
    "min_x_coord = min([x[0] for x in list(digged_fields)])\n",
    "min_y_coord = min([x[1] for x in list(digged_fields)])\n",
    "max_x_coord = max([x[0] for x in list(digged_fields)])\n",
    "max_y_coord = max([x[1] for x in list(digged_fields)])\n",
    "\n",
    "# print(f\"({min_x_coord},{min_y_coord})\")\n",
    "\n",
    "shifted_fields = [(x[0] - min_x_coord, x[1] - min_y_coord) for x in digged_fields]\n",
    "shifted_min = (0, 0)\n",
    "shifted_max = (max_x_coord - min_x_coord + 1, max_y_coord - min_y_coord + 1)\n",
    "\n",
    "# print_dig_field(\n",
    "#    shifted_fields, shifted_max[0], shifted_max[1]\n",
    "# )\n",
    "\n",
    "next_lower_dict = {}\n",
    "for sf in shifted_fields:\n",
    "    if (sf[0] + 1, sf[1]) in shifted_fields:\n",
    "        next_lower_dict[sf] = True\n",
    "    else:\n",
    "        next_lower_dict[sf] = False\n",
    "# next_lower_dict"
   ]
  },
  {
   "cell_type": "code",
   "execution_count": null,
   "metadata": {},
   "outputs": [],
   "source": [
    "filled_fields = set()\n",
    "inside = False\n",
    "for i in range(0, shifted_max[0]):\n",
    "    for j in range(0, shifted_max[1]):\n",
    "        # print(f\"({i},{j}) - {inside}\")\n",
    "        if next_lower_dict.get((i, j), False):\n",
    "            inside = not inside\n",
    "        elif inside:\n",
    "            filled_fields.add((i, j))\n",
    "\n",
    "\n",
    "# print_dig_field(\n",
    "#    set(shifted_fields).union(filled_fields), shifted_max[0], shifted_max[1]\n",
    "# )"
   ]
  },
  {
   "cell_type": "code",
   "execution_count": null,
   "metadata": {},
   "outputs": [],
   "source": [
    "len(set(shifted_fields).union(filled_fields))"
   ]
  },
  {
   "cell_type": "markdown",
   "metadata": {},
   "source": [
    "part 2"
   ]
  },
  {
   "cell_type": "code",
   "execution_count": null,
   "metadata": {},
   "outputs": [],
   "source": [
    "def mv_a_lot(pos, dir, steps):\n",
    "    return (pos[0] + (dir[0] * (steps)), pos[1] + (dir[1] * (steps)))"
   ]
  },
  {
   "cell_type": "code",
   "execution_count": null,
   "metadata": {},
   "outputs": [],
   "source": [
    "instr_map = {\"0\": \"R\", \"1\": \"D\", \"2\": \"L\", \"3\": \"U\"}\n",
    "hex_lines = [l.split()[-1].replace(\"(\", \"\").replace(\")\", \"\") for l in lines]\n",
    "new_instr = [(instr_map[hl[-1]], int(hl[1:6], 16)) for hl in hex_lines]\n",
    "new_instr[:5]"
   ]
  },
  {
   "cell_type": "code",
   "execution_count": null,
   "metadata": {},
   "outputs": [],
   "source": [
    "dig_plan = new_instr\n",
    "# check that there is a corner at 0,0\n",
    "assert dig_plan[-1][0] != dig_plan[0][0]"
   ]
  },
  {
   "cell_type": "code",
   "execution_count": null,
   "metadata": {},
   "outputs": [],
   "source": [
    "dig_site_vertices = []\n",
    "start_point = (0, 0)\n",
    "curr_point = start_point\n",
    "for dp in dig_plan:\n",
    "    curr_point = mv_a_lot(curr_point, dirs[dp[0]], dp[1])\n",
    "    dig_site_vertices.append(curr_point)\n",
    "# dig_site_vertices"
   ]
  },
  {
   "cell_type": "code",
   "execution_count": null,
   "metadata": {},
   "outputs": [],
   "source": [
    "# The idea is to use shoelace formula to get area in polygon.\n",
    "# This assumes the points to be at the center of each block\n",
    "# and consequently misses the outside edges\n",
    "# They can be easily computed by computing turns by going round the polygon though:"
   ]
  },
  {
   "cell_type": "code",
   "execution_count": null,
   "metadata": {},
   "outputs": [],
   "source": [
    "# if I turn right, I am missing 3/4 of a cube\n",
    "# if I turn left, I am missing 1/4 of a cube\n",
    "# if I don't turn at all, I am missing half a cube\n",
    "# To compute:\n",
    "# - All lengths in the digging plan -1 is the sum of no-turn edges\n",
    "# now for turning:\n",
    "\n",
    "# All possible dir changes and what turn they result in:\n",
    "turn_dict = {\n",
    "    \"RD\": \"R\",\n",
    "    \"DL\": \"R\",\n",
    "    \"LD\": \"L\",\n",
    "    \"DR\": \"L\",\n",
    "    \"LU\": \"R\",\n",
    "    \"UL\": \"L\",\n",
    "    \"UR\": \"R\",\n",
    "    \"RU\": \"L\",\n",
    "}\n",
    "left_turns = 0\n",
    "right_turns = 0\n",
    "for i in range(0, len(dig_plan) - 1):\n",
    "    if turn_dict[f\"{dig_plan[i][0]}{dig_plan[i+1][0]}\"] == \"R\":\n",
    "        right_turns += 1\n",
    "    else:\n",
    "        left_turns += 1\n",
    "if turn_dict[f\"{dig_plan[-1][0]}{dig_plan[0][0]}\"] == \"R\":\n",
    "    right_turns += 1\n",
    "else:\n",
    "    left_turns += 1\n",
    "\n",
    "outer_edges_area = (\n",
    "    sum([d[1] - 1 for d in dig_plan]) * 0.5 + right_turns * 0.75 + left_turns * 0.25\n",
    ")\n",
    "outer_edges_area"
   ]
  },
  {
   "cell_type": "code",
   "execution_count": null,
   "metadata": {},
   "outputs": [],
   "source": [
    "# https://en.wikipedia.org/wiki/Shoelace_formula\n",
    "def polygon_area(points):\n",
    "    area = 0\n",
    "    for i in range(0, len(points) - 1):\n",
    "        area += (points[i + 1][0] * points[i][1]) - (points[i][0] * points[i + 1][1])\n",
    "\n",
    "    return area / 2\n",
    "\n",
    "\n",
    "polygon_area(dig_site_vertices) + outer_edges_area"
   ]
  }
 ],
 "metadata": {
  "kernelspec": {
   "display_name": "aoc",
   "language": "python",
   "name": "python3"
  },
  "language_info": {
   "codemirror_mode": {
    "name": "ipython",
    "version": 3
   },
   "file_extension": ".py",
   "mimetype": "text/x-python",
   "name": "python",
   "nbconvert_exporter": "python",
   "pygments_lexer": "ipython3",
   "version": "3.11.5"
  }
 },
 "nbformat": 4,
 "nbformat_minor": 2
}
