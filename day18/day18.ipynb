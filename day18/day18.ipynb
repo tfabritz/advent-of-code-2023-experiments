{
 "cells": [
  {
   "cell_type": "code",
   "execution_count": null,
   "metadata": {},
   "outputs": [],
   "source": []
  },
  {
   "cell_type": "code",
   "execution_count": null,
   "metadata": {},
   "outputs": [],
   "source": [
    "with open(\"input-example.txt\") as f:\n",
    "    lines = f.readlines()\n",
    "lines = [l.strip() for l in lines]\n",
    "lines[:5]"
   ]
  },
  {
   "cell_type": "code",
   "execution_count": null,
   "metadata": {},
   "outputs": [],
   "source": [
    "split_lines = [l.split() for l in lines]\n",
    "dig_plan = [(l[0], int(l[1]), l[2]) for l in split_lines]\n",
    "dig_plan[:5]"
   ]
  },
  {
   "cell_type": "code",
   "execution_count": null,
   "metadata": {},
   "outputs": [],
   "source": [
    "def mv_pos(pos, dir):\n",
    "    return (pos[0] + dir[0], pos[1] + dir[1])\n",
    "\n",
    "\n",
    "def print_dig_field(visited_fields, max_x, max_y):\n",
    "    for i in range(0, max_x):\n",
    "        for j in range(0, max_y):\n",
    "            if (i, j) in visited_fields:\n",
    "                print(\"#\", end=\"\")\n",
    "            else:\n",
    "                print(\".\", end=\"\")\n",
    "        print()"
   ]
  },
  {
   "cell_type": "code",
   "execution_count": null,
   "metadata": {},
   "outputs": [],
   "source": [
    "dirs = {\"R\": (0, 1), \"U\": (-1, 0), \"D\": (1, 0), \"L\": (0, -1)}"
   ]
  },
  {
   "cell_type": "code",
   "execution_count": null,
   "metadata": {},
   "outputs": [],
   "source": [
    "start_point = (0, 0)\n",
    "digged_fields = []\n",
    "current_dig_field = start_point\n",
    "\n",
    "for d in dig_plan:\n",
    "    for i in range(0, d[1]):\n",
    "        digged_fields.append(current_dig_field)\n",
    "        current_dig_field = mv_pos(current_dig_field, dirs[d[0]])\n",
    "assert current_dig_field == start_point\n",
    "\n",
    "min_x_coord = min([x[0] for x in list(digged_fields)])\n",
    "min_y_coord = min([x[1] for x in list(digged_fields)])\n",
    "max_x_coord = max([x[0] for x in list(digged_fields)])\n",
    "max_y_coord = max([x[1] for x in list(digged_fields)])\n",
    "\n",
    "# print(f\"({min_x_coord},{min_y_coord})\")\n",
    "\n",
    "shifted_fields = [(x[0] - min_x_coord, x[1] - min_y_coord) for x in digged_fields]\n",
    "shifted_min = (0, 0)\n",
    "shifted_max = (max_x_coord - min_x_coord + 1, max_y_coord - min_y_coord + 1)\n",
    "\n",
    "# print_dig_field(\n",
    "#    shifted_fields, shifted_max[0], shifted_max[1]\n",
    "# )\n",
    "\n",
    "next_lower_dict = {}\n",
    "for sf in shifted_fields:\n",
    "    if (sf[0] + 1, sf[1]) in shifted_fields:\n",
    "        next_lower_dict[sf] = True\n",
    "    else:\n",
    "        next_lower_dict[sf] = False\n",
    "# next_lower_dict"
   ]
  },
  {
   "cell_type": "code",
   "execution_count": null,
   "metadata": {},
   "outputs": [],
   "source": [
    "filled_fields = set()\n",
    "inside = False\n",
    "for i in range(0, shifted_max[0]):\n",
    "    for j in range(0, shifted_max[1]):\n",
    "        # print(f\"({i},{j}) - {inside}\")\n",
    "        if next_lower_dict.get((i, j), False):\n",
    "            inside = not inside\n",
    "        elif inside:\n",
    "            filled_fields.add((i, j))\n",
    "\n",
    "\n",
    "# print_dig_field(\n",
    "#    set(shifted_fields).union(filled_fields), shifted_max[0], shifted_max[1]\n",
    "# )"
   ]
  },
  {
   "cell_type": "code",
   "execution_count": null,
   "metadata": {},
   "outputs": [],
   "source": [
    "len(set(shifted_fields).union(filled_fields))"
   ]
  },
  {
   "cell_type": "markdown",
   "metadata": {},
   "source": [
    "part 2"
   ]
  },
  {
   "cell_type": "code",
   "execution_count": null,
   "metadata": {},
   "outputs": [],
   "source": [
    "instr_map = {\"0\": \"R\", \"1\": \"D\", \"2\": \"L\", \"3\": \"U\"}\n",
    "hex_lines = [l.split()[-1].replace(\"(\", \"\").replace(\")\", \"\") for l in lines]\n",
    "new_instr = [(instr_map[hl[-1]], int(hl[1:6], 16)) for hl in hex_lines]\n",
    "new_instr[:5]"
   ]
  },
  {
   "cell_type": "code",
   "execution_count": null,
   "metadata": {},
   "outputs": [],
   "source": [
    "dig_plan = new_instr"
   ]
  },
  {
   "cell_type": "code",
   "execution_count": null,
   "metadata": {},
   "outputs": [],
   "source": []
  }
 ],
 "metadata": {
  "kernelspec": {
   "display_name": "aoc",
   "language": "python",
   "name": "python3"
  },
  "language_info": {
   "codemirror_mode": {
    "name": "ipython",
    "version": 3
   },
   "file_extension": ".py",
   "mimetype": "text/x-python",
   "name": "python",
   "nbconvert_exporter": "python",
   "pygments_lexer": "ipython3",
   "version": "3.11.5"
  }
 },
 "nbformat": 4,
 "nbformat_minor": 2
}
