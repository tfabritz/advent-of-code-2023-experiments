{
 "cells": [
  {
   "cell_type": "code",
   "execution_count": null,
   "metadata": {},
   "outputs": [],
   "source": [
    "from typing import Tuple, List, Dict\n",
    "import math\n",
    "from queue import PriorityQueue, Queue"
   ]
  },
  {
   "cell_type": "code",
   "execution_count": null,
   "metadata": {},
   "outputs": [],
   "source": [
    "with open(\"input-example.txt\") as f:\n",
    "    lines = f.readlines()\n",
    "lines = [l.strip() for l in lines]\n",
    "lines[:5]"
   ]
  },
  {
   "cell_type": "code",
   "execution_count": null,
   "metadata": {},
   "outputs": [],
   "source": [
    "maze = lines.copy()"
   ]
  },
  {
   "cell_type": "code",
   "execution_count": null,
   "metadata": {},
   "outputs": [],
   "source": [
    "start_point = (-1, -1)\n",
    "end_point = (-1, -1)\n",
    "for i in range(0, len(maze[0])):\n",
    "    if maze[0][i] == \".\":\n",
    "        start_point = (0, i)\n",
    "\n",
    "for i in range(0, len(maze[0])):\n",
    "    if maze[-1][i] == \".\":\n",
    "        end_point = (len(maze) - 1, i)\n",
    "\n",
    "print(start_point, end_point)"
   ]
  },
  {
   "cell_type": "code",
   "execution_count": null,
   "metadata": {},
   "outputs": [],
   "source": [
    "dirs = {\">\": (0, 1), \"^\": (-1, 0), \"v\": (1, 0), \"<\": (0, -1)}\n",
    "\n",
    "\n",
    "def mv_pos(pos, dir):\n",
    "    return (pos[0] + dir[0], pos[1] + dir[1])\n",
    "\n",
    "\n",
    "def in_bounds(pos, field):\n",
    "    return (\n",
    "        pos[0] >= 0 and pos[0] < len(field) and pos[1] >= 0 and pos[1] < len(field[0])\n",
    "    )\n",
    "\n",
    "\n",
    "def get_field(pos, field):\n",
    "    return field[pos[0]][pos[1]]\n",
    "\n",
    "\n",
    "def print_maze(visited_fields, maze):\n",
    "    for i in range(0, len(maze)):\n",
    "        for j in range(0, len(maze[0])):\n",
    "            if (i, j) in visited_fields:\n",
    "                print(\"O\", end=\"\")\n",
    "            else:\n",
    "                print(maze[i][j], end=\"\")\n",
    "        print()\n",
    "\n",
    "\n",
    "def get_path(start, target, predecesors):\n",
    "    path = []\n",
    "    pred = predecesors[target]\n",
    "    while start != pred:\n",
    "        path.append(pred)\n",
    "        pred = predecesors[pred]\n",
    "    path.append(start)\n",
    "    return list(reversed(path))"
   ]
  },
  {
   "cell_type": "code",
   "execution_count": null,
   "metadata": {},
   "outputs": [],
   "source": [
    "# create a graph\n",
    "\n",
    "\n",
    "def get_neighbours(pos, visited, maze):\n",
    "    neighbours = []\n",
    "    for dir in dirs.values():\n",
    "        neigh_pos = mv_pos(pos, dir)\n",
    "        if not in_bounds(neigh_pos, maze) or neigh_pos == pos:\n",
    "            continue\n",
    "\n",
    "        neigh_field = get_field(neigh_pos, maze)\n",
    "        if neigh_field != \"#\":\n",
    "            if neigh_field not in dirs.keys():\n",
    "                neighbours.append(mv_pos(pos, dir))\n",
    "            else:\n",
    "                if dirs[neigh_field] != (dir[0] * -1, dir[1] * -1):\n",
    "                    neighbours.append(mv_pos(pos, dir))\n",
    "    return neighbours\n",
    "\n",
    "\n",
    "nodes = set()\n",
    "edges = set()\n",
    "\n",
    "q = Queue()\n",
    "q.put(start_point)\n",
    "\n",
    "while not q.empty():\n",
    "    n = q.get()\n",
    "    if n in nodes:\n",
    "        continue\n",
    "\n",
    "    nodes.add(n)\n",
    "    neighours = get_neighbours(n, nodes, maze)\n",
    "    for neigh in neighours:\n",
    "        if ((neigh, n)) not in edges:\n",
    "            edges.add((n, neigh))\n",
    "        q.put(neigh)"
   ]
  },
  {
   "cell_type": "code",
   "execution_count": null,
   "metadata": {},
   "outputs": [],
   "source": [
    "# Bellman-Ford\n",
    "\n",
    "dists = {n: math.inf for n in nodes}\n",
    "dists[start_point] = 0\n",
    "\n",
    "predecesor = {n: None for n in nodes}\n",
    "\n",
    "node_count = len(nodes)\n",
    "edge_count = len(edges)\n",
    "\n",
    "for i in range(0, node_count - 1):\n",
    "    for e in edges:\n",
    "        if dists[e[0]] + (-1) < dists[e[1]]:\n",
    "            dists[e[1]] = dists[e[0]] + (-1)\n",
    "            predecesor[e[1]] = e[0]\n",
    "\n",
    "for e in edges:\n",
    "    if dists[e[0]] + (-1) < dists[e[1]]:\n",
    "        print(\"Neg cycle found\")\n",
    "        break"
   ]
  },
  {
   "cell_type": "code",
   "execution_count": null,
   "metadata": {},
   "outputs": [],
   "source": [
    "dists[end_point] * -1"
   ]
  },
  {
   "cell_type": "code",
   "execution_count": null,
   "metadata": {},
   "outputs": [],
   "source": [
    "def get_path(start, target, predecesors):\n",
    "    path = []\n",
    "    pred = predecesors[target]\n",
    "    while start != pred:\n",
    "        path.append(pred)\n",
    "        pred = predecesors[pred]\n",
    "    path.append(start)\n",
    "    return list(reversed(path))\n",
    "\n",
    "\n",
    "path = get_path(start_point, end_point, predecesor)\n",
    "print_maze(set(path), maze)"
   ]
  },
  {
   "cell_type": "code",
   "execution_count": null,
   "metadata": {},
   "outputs": [],
   "source": []
  }
 ],
 "metadata": {
  "kernelspec": {
   "display_name": "aoc",
   "language": "python",
   "name": "python3"
  },
  "language_info": {
   "codemirror_mode": {
    "name": "ipython",
    "version": 3
   },
   "file_extension": ".py",
   "mimetype": "text/x-python",
   "name": "python",
   "nbconvert_exporter": "python",
   "pygments_lexer": "ipython3",
   "version": "3.11.5"
  }
 },
 "nbformat": 4,
 "nbformat_minor": 2
}
