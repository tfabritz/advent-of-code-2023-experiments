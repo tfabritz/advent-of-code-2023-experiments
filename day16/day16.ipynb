{
 "cells": [
  {
   "cell_type": "code",
   "execution_count": null,
   "metadata": {},
   "outputs": [],
   "source": [
    "from dataclasses import dataclass\n",
    "from typing import Tuple\n",
    "from queue import Queue"
   ]
  },
  {
   "cell_type": "code",
   "execution_count": null,
   "metadata": {},
   "outputs": [],
   "source": [
    "with open(\"input.txt\") as f:\n",
    "    lines = f.readlines()\n",
    "lines = [l.strip() for l in lines]\n",
    "lines[:5]"
   ]
  },
  {
   "cell_type": "code",
   "execution_count": null,
   "metadata": {},
   "outputs": [],
   "source": [
    "field = lines"
   ]
  },
  {
   "cell_type": "code",
   "execution_count": null,
   "metadata": {},
   "outputs": [],
   "source": [
    "@dataclass\n",
    "class Beam:\n",
    "    pos: Tuple[int, int]\n",
    "    dir: Tuple[int, int]"
   ]
  },
  {
   "cell_type": "code",
   "execution_count": null,
   "metadata": {},
   "outputs": [],
   "source": [
    "def get_field(pos, field):\n",
    "    return field[pos[0]][pos[1]]\n",
    "\n",
    "\n",
    "def mv_pos(pos, dir):\n",
    "    return (pos[0] + dir[0], pos[1] + dir[1])\n",
    "\n",
    "\n",
    "def in_bounds(pos, field):\n",
    "    return (\n",
    "        pos[0] >= 0 and pos[0] < len(field) and pos[1] >= 0 and pos[1] < len(field[0])\n",
    "    )\n",
    "\n",
    "\n",
    "def print_beamed_field(visited_fields, field):\n",
    "    visited_positions = set([f[0] for f in visited_fields])\n",
    "    for i in range(0, len(field)):\n",
    "        for j in range(0, len(field[0])):\n",
    "            if (i, j) in visited_positions:\n",
    "                print(\"#\", end=\"\")\n",
    "            else:\n",
    "                print(field[i][j], end=\"\")\n",
    "        print()"
   ]
  },
  {
   "cell_type": "code",
   "execution_count": null,
   "metadata": {},
   "outputs": [],
   "source": [
    "visited_fields = set()\n",
    "alive_beams: Queue[Beam] = Queue()\n",
    "# only beam that can start on the outside\n",
    "# Starts to the top left going right\n",
    "initial_beam = Beam((0, -1), (0, 1))\n",
    "alive_beams.put(initial_beam)"
   ]
  },
  {
   "cell_type": "code",
   "execution_count": null,
   "metadata": {},
   "outputs": [],
   "source": [
    "while not alive_beams.empty():\n",
    "    b = alive_beams.get()\n",
    "\n",
    "    next_potential_pos = mv_pos(b.pos, b.dir)\n",
    "    # moving out of bounds\n",
    "    if not in_bounds(next_potential_pos, field):\n",
    "        continue\n",
    "    # or visiting somewhere again from same direction\n",
    "    if (next_potential_pos, b.dir) in visited_fields:\n",
    "        continue\n",
    "\n",
    "    next_field = get_field(next_potential_pos, field)\n",
    "\n",
    "    visited_fields.add((next_potential_pos, b.dir))\n",
    "\n",
    "    if next_field == \"|\" and (b.dir == (0, 1) or b.dir == (0, -1)):\n",
    "        down_beam = Beam(next_potential_pos, (1, 0))\n",
    "        up_beam = Beam(next_potential_pos, (-1, 0))\n",
    "        alive_beams.put(up_beam)\n",
    "        alive_beams.put(down_beam)\n",
    "    elif next_field == \"-\" and (b.dir == (1, 0) or b.dir == (-1, 0)):\n",
    "        right_beam = Beam(next_potential_pos, (0, 1))\n",
    "        left_beam = Beam(next_potential_pos, (0, -1))\n",
    "        alive_beams.put(right_beam)\n",
    "        alive_beams.put(left_beam)\n",
    "    elif next_field == \"/\":\n",
    "        if b.dir == (0, 1) or b.dir == (0, -1):\n",
    "            b.dir = (-1 * b.dir[1], 0)\n",
    "        else:\n",
    "            b.dir = (0, -1 * b.dir[0])\n",
    "        b.pos = next_potential_pos\n",
    "        alive_beams.put(b)\n",
    "    elif next_field == \"\\\\\":\n",
    "        if b.dir == (0, 1) or b.dir == (0, -1):\n",
    "            b.dir = (b.dir[1], 0)\n",
    "        else:\n",
    "            b.dir = (0, b.dir[0])\n",
    "        b.pos = next_potential_pos\n",
    "        alive_beams.put(b)\n",
    "    else:\n",
    "        b.pos = next_potential_pos\n",
    "        alive_beams.put(b)\n",
    "\n",
    "\n",
    "visited_fields\n",
    "\n",
    "print_beamed_field(visited_fields, field)"
   ]
  },
  {
   "cell_type": "code",
   "execution_count": null,
   "metadata": {},
   "outputs": [],
   "source": [
    "len(set([f[0] for f in visited_fields]))"
   ]
  },
  {
   "cell_type": "markdown",
   "metadata": {},
   "source": [
    "part 2"
   ]
  },
  {
   "cell_type": "code",
   "execution_count": null,
   "metadata": {},
   "outputs": [],
   "source": [
    "def shoot_light(initial_beam):\n",
    "    visited_fields = set()\n",
    "    alive_beams: Queue[Beam] = Queue()\n",
    "\n",
    "    alive_beams.put(initial_beam)\n",
    "\n",
    "    while not alive_beams.empty():\n",
    "        b = alive_beams.get()\n",
    "\n",
    "        next_potential_pos = mv_pos(b.pos, b.dir)\n",
    "        # moving out of bounds\n",
    "        if not in_bounds(next_potential_pos, field):\n",
    "            continue\n",
    "        # or visiting somewhere again from same direction\n",
    "        if (next_potential_pos, b.dir) in visited_fields:\n",
    "            continue\n",
    "\n",
    "        next_field = get_field(next_potential_pos, field)\n",
    "\n",
    "        visited_fields.add((next_potential_pos, b.dir))\n",
    "\n",
    "        if next_field == \"|\" and (b.dir == (0, 1) or b.dir == (0, -1)):\n",
    "            down_beam = Beam(next_potential_pos, (1, 0))\n",
    "            up_beam = Beam(next_potential_pos, (-1, 0))\n",
    "            alive_beams.put(up_beam)\n",
    "            alive_beams.put(down_beam)\n",
    "        elif next_field == \"-\" and (b.dir == (1, 0) or b.dir == (-1, 0)):\n",
    "            right_beam = Beam(next_potential_pos, (0, 1))\n",
    "            left_beam = Beam(next_potential_pos, (0, -1))\n",
    "            alive_beams.put(right_beam)\n",
    "            alive_beams.put(left_beam)\n",
    "        elif next_field == \"/\":\n",
    "            if b.dir == (0, 1) or b.dir == (0, -1):\n",
    "                b.dir = (-1 * b.dir[1], 0)\n",
    "            else:\n",
    "                b.dir = (0, -1 * b.dir[0])\n",
    "            b.pos = next_potential_pos\n",
    "            alive_beams.put(b)\n",
    "        elif next_field == \"\\\\\":\n",
    "            if b.dir == (0, 1) or b.dir == (0, -1):\n",
    "                b.dir = (b.dir[1], 0)\n",
    "            else:\n",
    "                b.dir = (0, b.dir[0])\n",
    "            b.pos = next_potential_pos\n",
    "            alive_beams.put(b)\n",
    "        else:\n",
    "            b.pos = next_potential_pos\n",
    "            alive_beams.put(b)\n",
    "\n",
    "    return len(set([f[0] for f in visited_fields]))"
   ]
  },
  {
   "cell_type": "code",
   "execution_count": null,
   "metadata": {},
   "outputs": [],
   "source": [
    "max_energized = 0\n",
    "for i in range(0, len(field)):\n",
    "    beam = Beam((i, -1), (0, 1))\n",
    "    ener = shoot_light(beam)\n",
    "    max_energized = max(ener, max_energized)\n",
    "\n",
    "for j in range(0, len(field[0])):\n",
    "    beam = Beam((-1, j), (1, 0))\n",
    "    ener = shoot_light(beam)\n",
    "    max_energized = max(ener, max_energized)"
   ]
  },
  {
   "cell_type": "code",
   "execution_count": null,
   "metadata": {},
   "outputs": [],
   "source": [
    "max_energized"
   ]
  }
 ],
 "metadata": {
  "kernelspec": {
   "display_name": "aoc",
   "language": "python",
   "name": "python3"
  },
  "language_info": {
   "codemirror_mode": {
    "name": "ipython",
    "version": 3
   },
   "file_extension": ".py",
   "mimetype": "text/x-python",
   "name": "python",
   "nbconvert_exporter": "python",
   "pygments_lexer": "ipython3",
   "version": "3.11.5"
  }
 },
 "nbformat": 4,
 "nbformat_minor": 2
}
