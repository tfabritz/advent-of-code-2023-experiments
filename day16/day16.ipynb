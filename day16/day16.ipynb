{
 "cells": [
  {
   "cell_type": "code",
   "execution_count": 19,
   "metadata": {},
   "outputs": [],
   "source": [
    "from dataclasses import dataclass\n",
    "from typing import Tuple\n",
    "from queue import Queue"
   ]
  },
  {
   "cell_type": "code",
   "execution_count": 20,
   "metadata": {},
   "outputs": [
    {
     "data": {
      "text/plain": [
       "['.|...\\\\....', '|.-.\\\\.....', '.....|-...', '........|.', '..........']"
      ]
     },
     "execution_count": 20,
     "metadata": {},
     "output_type": "execute_result"
    }
   ],
   "source": [
    "with open(\"input-example.txt\") as f:\n",
    "    lines = f.readlines()\n",
    "lines = [l.strip() for l in lines]\n",
    "lines[:5]"
   ]
  },
  {
   "cell_type": "code",
   "execution_count": 21,
   "metadata": {},
   "outputs": [],
   "source": [
    "field = lines"
   ]
  },
  {
   "cell_type": "code",
   "execution_count": 22,
   "metadata": {},
   "outputs": [],
   "source": [
    "@dataclass\n",
    "class Beam:\n",
    "    pos: Tuple[int, int]\n",
    "    dir: Tuple[int, int]"
   ]
  },
  {
   "cell_type": "code",
   "execution_count": 23,
   "metadata": {},
   "outputs": [],
   "source": [
    "b = Beam((1, 1), (0, 0))"
   ]
  },
  {
   "cell_type": "code",
   "execution_count": 24,
   "metadata": {},
   "outputs": [
    {
     "ename": "SyntaxError",
     "evalue": "invalid syntax (2067784032.py, line 1)",
     "output_type": "error",
     "traceback": [
      "\u001b[0;36m  Cell \u001b[0;32mIn[24], line 1\u001b[0;36m\u001b[0m\n\u001b[0;31m    - globales set mit visited positions\u001b[0m\n\u001b[0m               ^\u001b[0m\n\u001b[0;31mSyntaxError\u001b[0m\u001b[0;31m:\u001b[0m invalid syntax\n"
     ]
    }
   ],
   "source": [
    "- globales set mit visited positions \n",
    "- move methode die alle beams moved \n",
    "- wenn nächste position schon in visited, dann beam verschieben in done \n",
    "- queue mit noch zu bewegenden beams \n",
    "- wenn nächstes feld das er betreten würde schon besucht wurde, dann fertig"
   ]
  },
  {
   "cell_type": "code",
   "execution_count": null,
   "metadata": {},
   "outputs": [],
   "source": [
    "data class mit position und richtung für beam \n",
    "bei splitter 2 neue beams spawnen "
   ]
  },
  {
   "cell_type": "code",
   "execution_count": null,
   "metadata": {},
   "outputs": [],
   "source": [
    "def get_field(pos, field):\n",
    "    return field[pos[0]][pos[1]]\n",
    "\n",
    "\n",
    "def mv_pos(pos, dir):\n",
    "    return (pos[0] + dir[0], pos[1] + dir[1])\n",
    "\n",
    "\n",
    "def in_bounds(pos, field):\n",
    "    return (\n",
    "        pos[0] >= 0 and pos[0] < len(field) and pos[1] >= 0 and pos[1] < len(field[0])\n",
    "    )\n",
    "\n",
    "\n",
    "def print_beamed_field(visited_fields, field):\n",
    "    visited_positions = set([f[0] for f in visited_fields])\n",
    "    for i in range(0, len(field)):\n",
    "        for j in range(0, len(field[0])):\n",
    "            if (i, j) in visited_positions:\n",
    "                print(\"#\", end=\"\")\n",
    "            else:\n",
    "                print(field[i][j], end=\"\")\n",
    "        print()"
   ]
  },
  {
   "cell_type": "code",
   "execution_count": null,
   "metadata": {},
   "outputs": [],
   "source": []
  },
  {
   "cell_type": "code",
   "execution_count": null,
   "metadata": {},
   "outputs": [],
   "source": [
    "visited_fields = set()\n",
    "alive_beams: Queue[Beam] = Queue()\n",
    "# only beam that can start on the outside\n",
    "# Starts to the top left going right\n",
    "initial_beam = Beam((0, -1), (0, 1))\n",
    "alive_beams.put(initial_beam)"
   ]
  },
  {
   "cell_type": "code",
   "execution_count": null,
   "metadata": {},
   "outputs": [],
   "source": [
    "while not alive_beams.empty:\n",
    "    b = alive_beams.get()\n",
    "\n",
    "    next_potential_pos = mv_pos(b.pos, b.dir)\n",
    "    # moving out of bounds\n",
    "    if not in_bounds(next_potential_pos, field):\n",
    "        continue\n",
    "    # or visiting somewhere again from same direction\n",
    "    if (next_potential_pos, b.dir) in visited_fields:\n",
    "        continue\n",
    "\n",
    "    next_field = get_field(next_potential_pos, field)\n",
    "\n",
    "    b.pos = next_potential_pos\n",
    "    alive_beams.put(b)"
   ]
  }
 ],
 "metadata": {
  "kernelspec": {
   "display_name": "aoc",
   "language": "python",
   "name": "python3"
  },
  "language_info": {
   "codemirror_mode": {
    "name": "ipython",
    "version": 3
   },
   "file_extension": ".py",
   "mimetype": "text/x-python",
   "name": "python",
   "nbconvert_exporter": "python",
   "pygments_lexer": "ipython3",
   "version": "3.11.5"
  }
 },
 "nbformat": 4,
 "nbformat_minor": 2
}
