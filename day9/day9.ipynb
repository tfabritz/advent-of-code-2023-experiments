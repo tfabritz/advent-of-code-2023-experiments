{
 "cells": [
  {
   "cell_type": "code",
   "execution_count": null,
   "metadata": {},
   "outputs": [],
   "source": [
    "import re"
   ]
  },
  {
   "cell_type": "code",
   "execution_count": null,
   "metadata": {},
   "outputs": [],
   "source": [
    "with open(\"input.txt\") as f:\n",
    "    lines = f.readlines()\n",
    "lines = [l.strip() for l in lines]\n",
    "lines[:5]"
   ]
  },
  {
   "cell_type": "code",
   "execution_count": null,
   "metadata": {},
   "outputs": [],
   "source": [
    "input_number_list = [[int(n) for n in re.findall(r\"(-?[\\d]+)\", l)] for l in lines]"
   ]
  },
  {
   "cell_type": "markdown",
   "metadata": {},
   "source": [
    "part 1"
   ]
  },
  {
   "cell_type": "code",
   "execution_count": null,
   "metadata": {},
   "outputs": [],
   "source": [
    "def get_diff_list(ls):\n",
    "    if len(ls) == 1:\n",
    "        return [0]\n",
    "    return [j - i for i, j in zip(ls[:-1], ls[1:])]\n",
    "\n",
    "\n",
    "def get_list_stack(ls):\n",
    "    ls = ls.copy()\n",
    "    list_stack = [ls]\n",
    "    all_zeroes = False\n",
    "    diff_list = ls.copy()\n",
    "    while not all_zeroes:\n",
    "        diff_list = get_diff_list(diff_list)\n",
    "        # print(diff_list)\n",
    "        list_stack.append(diff_list)\n",
    "        all_zeroes = all([n == 0 for n in diff_list])\n",
    "    return list_stack\n",
    "\n",
    "\n",
    "input_numbers = input_number_list[0]\n",
    "list(reversed(get_list_stack(input_numbers)))"
   ]
  },
  {
   "cell_type": "code",
   "execution_count": null,
   "metadata": {},
   "outputs": [],
   "source": [
    "def predict_next(list_stack) -> None:\n",
    "    list_stack = list_stack.copy()\n",
    "    for i in range(1, len(list_stack)):\n",
    "        try:\n",
    "            list_stack[i].append(list_stack[i][-1] + list_stack[i - 1][-1])\n",
    "        except:\n",
    "            print(list_stack)\n",
    "            raise\n",
    "    print(list_stack)\n",
    "    return list_stack[-1][-1]"
   ]
  },
  {
   "cell_type": "code",
   "execution_count": null,
   "metadata": {},
   "outputs": [],
   "source": [
    "sum(\n",
    "    [\n",
    "        predict_next(list(reversed(get_list_stack(input_numbers))))\n",
    "        for input_numbers in input_number_list\n",
    "    ]\n",
    ")"
   ]
  },
  {
   "cell_type": "markdown",
   "metadata": {},
   "source": [
    "part 2"
   ]
  },
  {
   "cell_type": "code",
   "execution_count": null,
   "metadata": {},
   "outputs": [],
   "source": [
    "def get_list_stack_rev(ls):\n",
    "    ls = list(reversed(ls.copy()))\n",
    "    list_stack = [ls]\n",
    "    all_zeroes = False\n",
    "    diff_list = ls.copy()\n",
    "    while not all_zeroes:\n",
    "        diff_list = get_diff_list(diff_list)\n",
    "        # print(diff_list)\n",
    "        list_stack.append(diff_list)\n",
    "        all_zeroes = all([n == 0 for n in diff_list])\n",
    "    return list_stack\n",
    "\n",
    "\n",
    "sum(\n",
    "    [\n",
    "        predict_next(list(reversed(get_list_stack_rev(input_numbers))))\n",
    "        for input_numbers in input_number_list\n",
    "    ]\n",
    ")"
   ]
  }
 ],
 "metadata": {
  "kernelspec": {
   "display_name": "aoc",
   "language": "python",
   "name": "python3"
  },
  "language_info": {
   "codemirror_mode": {
    "name": "ipython",
    "version": 3
   },
   "file_extension": ".py",
   "mimetype": "text/x-python",
   "name": "python",
   "nbconvert_exporter": "python",
   "pygments_lexer": "ipython3",
   "version": "3.11.5"
  }
 },
 "nbformat": 4,
 "nbformat_minor": 2
}
