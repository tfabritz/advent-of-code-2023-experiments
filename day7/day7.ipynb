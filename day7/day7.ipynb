{
 "cells": [
  {
   "cell_type": "code",
   "execution_count": null,
   "metadata": {},
   "outputs": [],
   "source": [
    "import re\n",
    "from collections import Counter\n",
    "from functools import cmp_to_key"
   ]
  },
  {
   "cell_type": "code",
   "execution_count": null,
   "metadata": {},
   "outputs": [],
   "source": [
    "with open(\"input.txt\") as f:\n",
    "    lines = f.readlines()\n",
    "lines = [l.strip() for l in lines]\n",
    "lines[:5]"
   ]
  },
  {
   "cell_type": "markdown",
   "metadata": {},
   "source": [
    "part 1"
   ]
  },
  {
   "cell_type": "code",
   "execution_count": null,
   "metadata": {},
   "outputs": [],
   "source": [
    "hands = [(r.split()[0], int(r.split()[1])) for r in lines]\n",
    "hands[:5]"
   ]
  },
  {
   "cell_type": "code",
   "execution_count": null,
   "metadata": {},
   "outputs": [],
   "source": [
    "# Type mapping\n",
    "# 6 Five of a kind\n",
    "# 5 Four of a kind\n",
    "# 4 Full house\n",
    "# 3 Three of a kind\n",
    "# 2 Two pair\n",
    "# 1 One pair\n",
    "# 0 High card\n",
    "def find_type(cards):\n",
    "    cntr = dict(Counter(cards))\n",
    "    if len(cntr) == 1:\n",
    "        return 6\n",
    "    if len(cntr) == 2:\n",
    "        if max(cntr.values()) == 4:\n",
    "            return 5\n",
    "        else:\n",
    "            return 4\n",
    "    if len(cntr) == 3:\n",
    "        if max(cntr.values()) == 3:\n",
    "            return 3\n",
    "        else:\n",
    "            return 2\n",
    "    if len(cntr) == 4:\n",
    "        return 1\n",
    "    return 0\n",
    "\n",
    "\n",
    "find_type(\"51414\")"
   ]
  },
  {
   "cell_type": "code",
   "execution_count": null,
   "metadata": {},
   "outputs": [],
   "source": [
    "card_vals = dict(zip(\"AKQJT98765432\", range(0, 13)))\n",
    "\n",
    "\n",
    "def compare_cards(c1, c2):\n",
    "    if c1 != c2:\n",
    "        return 1 if card_vals[c1] < card_vals[c2] else -1\n",
    "    else:\n",
    "        return 0"
   ]
  },
  {
   "cell_type": "code",
   "execution_count": null,
   "metadata": {},
   "outputs": [],
   "source": [
    "def compare_hands(h1: tuple[str, int], h2):\n",
    "    cards_h1 = h1[0]\n",
    "    cards_h2 = h2[0]\n",
    "\n",
    "    type_h1 = find_type(cards_h1)\n",
    "    type_h2 = find_type(cards_h2)\n",
    "\n",
    "    if type_h1 != type_h2:\n",
    "        return 1 if type_h1 > type_h2 else -1\n",
    "    else:\n",
    "        for i in range(0, 5):\n",
    "            com = compare_cards(cards_h1[i], cards_h2[i])\n",
    "            if com:\n",
    "                return com\n",
    "            else:\n",
    "                continue\n",
    "    return 0\n",
    "\n",
    "\n",
    "compare_hands(hands[0], hands[1])"
   ]
  },
  {
   "cell_type": "code",
   "execution_count": null,
   "metadata": {},
   "outputs": [],
   "source": [
    "sorted_hands = sorted(hands, key=cmp_to_key(compare_hands))\n",
    "sorted_hands[:5]"
   ]
  },
  {
   "cell_type": "code",
   "execution_count": null,
   "metadata": {},
   "outputs": [],
   "source": [
    "sum(\n",
    "    [\n",
    "        v[0] * v[1]\n",
    "        for v in zip([h[1] for h in sorted_hands], range(1, len(sorted_hands) + 1))\n",
    "    ]\n",
    ")"
   ]
  },
  {
   "cell_type": "markdown",
   "metadata": {},
   "source": [
    "part 2"
   ]
  },
  {
   "cell_type": "code",
   "execution_count": null,
   "metadata": {},
   "outputs": [],
   "source": []
  }
 ],
 "metadata": {
  "kernelspec": {
   "display_name": "aoc",
   "language": "python",
   "name": "python3"
  },
  "language_info": {
   "codemirror_mode": {
    "name": "ipython",
    "version": 3
   },
   "file_extension": ".py",
   "mimetype": "text/x-python",
   "name": "python",
   "nbconvert_exporter": "python",
   "pygments_lexer": "ipython3",
   "version": "3.11.5"
  }
 },
 "nbformat": 4,
 "nbformat_minor": 2
}
